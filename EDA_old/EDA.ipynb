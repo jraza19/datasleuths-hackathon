{
 "cells": [
  {
   "cell_type": "code",
   "execution_count": 80,
   "metadata": {},
   "outputs": [
    {
     "name": "stderr",
     "output_type": "stream",
     "text": [
      "/opt/miniconda3/envs/532/lib/python3.9/site-packages/IPython/core/interactiveshell.py:3146: DtypeWarning: Columns (13) have mixed types.Specify dtype option on import or set low_memory=False.\n",
      "  has_raised = await self.run_ast_nodes(code_ast.body, cell_name,\n"
     ]
    },
    {
     "data": {
      "text/html": [
       "<div>\n",
       "<style scoped>\n",
       "    .dataframe tbody tr th:only-of-type {\n",
       "        vertical-align: middle;\n",
       "    }\n",
       "\n",
       "    .dataframe tbody tr th {\n",
       "        vertical-align: top;\n",
       "    }\n",
       "\n",
       "    .dataframe thead th {\n",
       "        text-align: right;\n",
       "    }\n",
       "</style>\n",
       "<table border=\"1\" class=\"dataframe\">\n",
       "  <thead>\n",
       "    <tr style=\"text-align: right;\">\n",
       "      <th></th>\n",
       "      <th>FOLDERYEAR</th>\n",
       "      <th>LicenceRSN</th>\n",
       "      <th>LicenceNumber</th>\n",
       "      <th>LicenceRevisionNumber</th>\n",
       "      <th>BusinessName</th>\n",
       "      <th>BusinessTradeName</th>\n",
       "      <th>Status</th>\n",
       "      <th>IssuedDate</th>\n",
       "      <th>ExpiredDate</th>\n",
       "      <th>BusinessType</th>\n",
       "      <th>...</th>\n",
       "      <th>Street</th>\n",
       "      <th>City</th>\n",
       "      <th>Province</th>\n",
       "      <th>Country</th>\n",
       "      <th>PostalCode</th>\n",
       "      <th>LocalArea</th>\n",
       "      <th>NumberofEmployees</th>\n",
       "      <th>FeePaid</th>\n",
       "      <th>ExtractDate</th>\n",
       "      <th>Geom</th>\n",
       "    </tr>\n",
       "  </thead>\n",
       "  <tbody>\n",
       "    <tr>\n",
       "      <th>0</th>\n",
       "      <td>14</td>\n",
       "      <td>2180123</td>\n",
       "      <td>14-160030</td>\n",
       "      <td>0</td>\n",
       "      <td>Golden Trim Enterprises Inc</td>\n",
       "      <td>Floorhaus</td>\n",
       "      <td>Issued</td>\n",
       "      <td>2013-12-05T19:08:53-05:00</td>\n",
       "      <td>2014-12-31</td>\n",
       "      <td>Wholesale Dealer w/ Anc. Retail</td>\n",
       "      <td>...</td>\n",
       "      <td>W 3RD AV</td>\n",
       "      <td>Vancouver</td>\n",
       "      <td>BC</td>\n",
       "      <td>CA</td>\n",
       "      <td>V5Y 1G1</td>\n",
       "      <td>Mount Pleasant</td>\n",
       "      <td>4.0</td>\n",
       "      <td>262.0</td>\n",
       "      <td>2019-07-21T16:49:13-04:00</td>\n",
       "      <td>{\"type\": \"Point\", \"coordinates\": [-123.1098925...</td>\n",
       "    </tr>\n",
       "    <tr>\n",
       "      <th>1</th>\n",
       "      <td>14</td>\n",
       "      <td>2180373</td>\n",
       "      <td>14-160220</td>\n",
       "      <td>0</td>\n",
       "      <td>Tamton Networking Inc</td>\n",
       "      <td>Tam Ton Training</td>\n",
       "      <td>Issued</td>\n",
       "      <td>2014-02-26T16:08:59-05:00</td>\n",
       "      <td>2014-12-31</td>\n",
       "      <td>Instruction</td>\n",
       "      <td>...</td>\n",
       "      <td>W PENDER ST</td>\n",
       "      <td>Vancouver</td>\n",
       "      <td>BC</td>\n",
       "      <td>CA</td>\n",
       "      <td>V6B 6N9</td>\n",
       "      <td>Downtown</td>\n",
       "      <td>0.0</td>\n",
       "      <td>130.0</td>\n",
       "      <td>2019-07-21T16:49:13-04:00</td>\n",
       "      <td>{\"type\": \"Point\", \"coordinates\": [-123.1067518...</td>\n",
       "    </tr>\n",
       "    <tr>\n",
       "      <th>2</th>\n",
       "      <td>14</td>\n",
       "      <td>2180374</td>\n",
       "      <td>14-160221</td>\n",
       "      <td>0</td>\n",
       "      <td>Jack W Chow Insurance Services Ltd</td>\n",
       "      <td>NaN</td>\n",
       "      <td>Issued</td>\n",
       "      <td>2013-12-06T11:57:32-05:00</td>\n",
       "      <td>2014-12-31</td>\n",
       "      <td>Office</td>\n",
       "      <td>...</td>\n",
       "      <td>E PENDER ST</td>\n",
       "      <td>Vancouver</td>\n",
       "      <td>BC</td>\n",
       "      <td>CA</td>\n",
       "      <td>V6A 1S9</td>\n",
       "      <td>Downtown</td>\n",
       "      <td>10.0</td>\n",
       "      <td>130.0</td>\n",
       "      <td>2019-07-21T16:49:13-04:00</td>\n",
       "      <td>{\"type\": \"Point\", \"coordinates\": [-123.1040791...</td>\n",
       "    </tr>\n",
       "    <tr>\n",
       "      <th>3</th>\n",
       "      <td>14</td>\n",
       "      <td>2180382</td>\n",
       "      <td>14-160226</td>\n",
       "      <td>0</td>\n",
       "      <td>Time Education Inc</td>\n",
       "      <td>NaN</td>\n",
       "      <td>Cancelled</td>\n",
       "      <td>NaN</td>\n",
       "      <td>NaN</td>\n",
       "      <td>Educational</td>\n",
       "      <td>...</td>\n",
       "      <td>GRANVILLE ST</td>\n",
       "      <td>Vancouver</td>\n",
       "      <td>BC</td>\n",
       "      <td>CA</td>\n",
       "      <td>V6M 4J7</td>\n",
       "      <td>Kerrisdale</td>\n",
       "      <td>2.0</td>\n",
       "      <td>51.0</td>\n",
       "      <td>2019-07-21T16:49:13-04:00</td>\n",
       "      <td>{\"type\": \"Point\", \"coordinates\": [-123.1401383...</td>\n",
       "    </tr>\n",
       "    <tr>\n",
       "      <th>4</th>\n",
       "      <td>13</td>\n",
       "      <td>2180556</td>\n",
       "      <td>13-449866</td>\n",
       "      <td>0</td>\n",
       "      <td>(Maiko Sato)</td>\n",
       "      <td>Nankurunaisa Education Services</td>\n",
       "      <td>Issued</td>\n",
       "      <td>2013-12-17T16:18:45-05:00</td>\n",
       "      <td>2013-12-31</td>\n",
       "      <td>Referral Services</td>\n",
       "      <td>...</td>\n",
       "      <td>NaN</td>\n",
       "      <td>Vancouver</td>\n",
       "      <td>BC</td>\n",
       "      <td>CA</td>\n",
       "      <td>NaN</td>\n",
       "      <td>Riley Park</td>\n",
       "      <td>1.0</td>\n",
       "      <td>62.0</td>\n",
       "      <td>2019-07-21T16:49:13-04:00</td>\n",
       "      <td>NaN</td>\n",
       "    </tr>\n",
       "  </tbody>\n",
       "</table>\n",
       "<p>5 rows × 24 columns</p>\n",
       "</div>"
      ],
      "text/plain": [
       "   FOLDERYEAR  LicenceRSN LicenceNumber  LicenceRevisionNumber  \\\n",
       "0          14     2180123     14-160030                      0   \n",
       "1          14     2180373     14-160220                      0   \n",
       "2          14     2180374     14-160221                      0   \n",
       "3          14     2180382     14-160226                      0   \n",
       "4          13     2180556     13-449866                      0   \n",
       "\n",
       "                         BusinessName                BusinessTradeName  \\\n",
       "0         Golden Trim Enterprises Inc                        Floorhaus   \n",
       "1               Tamton Networking Inc                 Tam Ton Training   \n",
       "2  Jack W Chow Insurance Services Ltd                              NaN   \n",
       "3                  Time Education Inc                              NaN   \n",
       "4                        (Maiko Sato)  Nankurunaisa Education Services   \n",
       "\n",
       "      Status                 IssuedDate ExpiredDate  \\\n",
       "0     Issued  2013-12-05T19:08:53-05:00  2014-12-31   \n",
       "1     Issued  2014-02-26T16:08:59-05:00  2014-12-31   \n",
       "2     Issued  2013-12-06T11:57:32-05:00  2014-12-31   \n",
       "3  Cancelled                        NaN         NaN   \n",
       "4     Issued  2013-12-17T16:18:45-05:00  2013-12-31   \n",
       "\n",
       "                      BusinessType  ...        Street       City Province  \\\n",
       "0  Wholesale Dealer w/ Anc. Retail  ...      W 3RD AV  Vancouver       BC   \n",
       "1                      Instruction  ...   W PENDER ST  Vancouver       BC   \n",
       "2                           Office  ...   E PENDER ST  Vancouver       BC   \n",
       "3                      Educational  ...  GRANVILLE ST  Vancouver       BC   \n",
       "4                Referral Services  ...           NaN  Vancouver       BC   \n",
       "\n",
       "  Country PostalCode       LocalArea NumberofEmployees FeePaid  \\\n",
       "0      CA    V5Y 1G1  Mount Pleasant               4.0   262.0   \n",
       "1      CA    V6B 6N9        Downtown               0.0   130.0   \n",
       "2      CA    V6A 1S9        Downtown              10.0   130.0   \n",
       "3      CA    V6M 4J7      Kerrisdale               2.0    51.0   \n",
       "4      CA        NaN      Riley Park               1.0    62.0   \n",
       "\n",
       "                 ExtractDate  \\\n",
       "0  2019-07-21T16:49:13-04:00   \n",
       "1  2019-07-21T16:49:13-04:00   \n",
       "2  2019-07-21T16:49:13-04:00   \n",
       "3  2019-07-21T16:49:13-04:00   \n",
       "4  2019-07-21T16:49:13-04:00   \n",
       "\n",
       "                                                Geom  \n",
       "0  {\"type\": \"Point\", \"coordinates\": [-123.1098925...  \n",
       "1  {\"type\": \"Point\", \"coordinates\": [-123.1067518...  \n",
       "2  {\"type\": \"Point\", \"coordinates\": [-123.1040791...  \n",
       "3  {\"type\": \"Point\", \"coordinates\": [-123.1401383...  \n",
       "4                                                NaN  \n",
       "\n",
       "[5 rows x 24 columns]"
      ]
     },
     "execution_count": 80,
     "metadata": {},
     "output_type": "execute_result"
    }
   ],
   "source": [
    "import pandas as pd\n",
    "\n",
    "df = pd.read_csv(\"business-licences-hackathon.csv\", sep=\";\")\n",
    "df.head()"
   ]
  },
  {
   "cell_type": "code",
   "execution_count": 81,
   "metadata": {},
   "outputs": [
    {
     "name": "stdout",
     "output_type": "stream",
     "text": [
      "Index(['FOLDERYEAR', 'LicenceRSN', 'LicenceNumber', 'LicenceRevisionNumber',\n",
      "       'BusinessName', 'BusinessTradeName', 'Status', 'IssuedDate',\n",
      "       'ExpiredDate', 'BusinessType', 'BusinessSubType', 'Unit', 'UnitType',\n",
      "       'House', 'Street', 'City', 'Province', 'Country', 'PostalCode',\n",
      "       'LocalArea', 'NumberofEmployees', 'FeePaid', 'ExtractDate', 'Geom'],\n",
      "      dtype='object')\n"
     ]
    }
   ],
   "source": [
    "print(df.columns)"
   ]
  },
  {
   "cell_type": "code",
   "execution_count": 82,
   "metadata": {},
   "outputs": [
    {
     "name": "stdout",
     "output_type": "stream",
     "text": [
      "<class 'pandas.core.frame.DataFrame'>\n",
      "RangeIndex: 569027 entries, 0 to 569026\n",
      "Data columns (total 24 columns):\n",
      " #   Column                 Non-Null Count   Dtype  \n",
      "---  ------                 --------------   -----  \n",
      " 0   FOLDERYEAR             569027 non-null  int64  \n",
      " 1   LicenceRSN             569027 non-null  int64  \n",
      " 2   LicenceNumber          569027 non-null  object \n",
      " 3   LicenceRevisionNumber  569027 non-null  int64  \n",
      " 4   BusinessName           550020 non-null  object \n",
      " 5   BusinessTradeName      230039 non-null  object \n",
      " 6   Status                 569027 non-null  object \n",
      " 7   IssuedDate             468813 non-null  object \n",
      " 8   ExpiredDate            468490 non-null  object \n",
      " 9   BusinessType           569027 non-null  object \n",
      " 10  BusinessSubType        307658 non-null  object \n",
      " 11  Unit                   147603 non-null  object \n",
      " 12  UnitType               147543 non-null  object \n",
      " 13  House                  313356 non-null  object \n",
      " 14  Street                 313371 non-null  object \n",
      " 15  City                   568212 non-null  object \n",
      " 16  Province               568058 non-null  object \n",
      " 17  Country                551132 non-null  object \n",
      " 18  PostalCode             308835 non-null  object \n",
      " 19  LocalArea              500983 non-null  object \n",
      " 20  NumberofEmployees      569027 non-null  float64\n",
      " 21  FeePaid                475356 non-null  float64\n",
      " 22  ExtractDate            569027 non-null  object \n",
      " 23  Geom                   302893 non-null  object \n",
      "dtypes: float64(2), int64(3), object(19)\n",
      "memory usage: 104.2+ MB\n"
     ]
    }
   ],
   "source": [
    "df.info()"
   ]
  },
  {
   "cell_type": "code",
   "execution_count": 83,
   "metadata": {},
   "outputs": [
    {
     "data": {
      "text/plain": [
       "Status\n",
       "Cancelled                 9486\n",
       "Gone Out of Business     39383\n",
       "Inactive                 12378\n",
       "Issued                  436548\n",
       "Pending                  52225\n",
       "Name: BusinessName, dtype: int64"
      ]
     },
     "execution_count": 83,
     "metadata": {},
     "output_type": "execute_result"
    }
   ],
   "source": [
    "df.groupby(by=\"Status\")[\"BusinessName\"].count()"
   ]
  },
  {
   "cell_type": "code",
   "execution_count": 84,
   "metadata": {},
   "outputs": [
    {
     "data": {
      "text/plain": [
       "BusinessName\n",
       "!Exotics BySIYTHE Corporation             0.000000e+00\n",
       "Imperial Autobody Ltd                     0.000000e+00\n",
       "Imperial Carpets & Rugs Ltd               0.000000e+00\n",
       "Imperial Construction Ltd                 0.000000e+00\n",
       "Imperial Ginseng Products Inc             0.000000e+00\n",
       "                                              ...     \n",
       "Amazon Canada Fulfillment Services Inc    2.640926e+03\n",
       "(Devret Bosch)                            2.865551e+03\n",
       "K & T Foods Ltd                           1.504038e+05\n",
       "(Sergey Lipnitskiy)                       3.745225e+05\n",
       "Shifeon Enterprises Ltd                   1.906663e+09\n",
       "Name: NumberofEmployees, Length: 84111, dtype: float64"
      ]
     },
     "execution_count": 84,
     "metadata": {},
     "output_type": "execute_result"
    }
   ],
   "source": [
    "df.groupby(by=\"BusinessName\")[\"NumberofEmployees\"].std().sort_values().dropna()"
   ]
  },
  {
   "cell_type": "code",
   "execution_count": 85,
   "metadata": {},
   "outputs": [
    {
     "data": {
      "text/plain": [
       "BusinessName\n",
       "Kingsway Moulding & Floors Ltd             1\n",
       "0746652 BC Ltd                             1\n",
       "Chun Chia Wu (Chun Wu)                     1\n",
       "0745070 BC Ltd                             1\n",
       "0744920 BC Ltd                             1\n",
       "                                        ... \n",
       "City of Vancouver                        516\n",
       "Greater Vancouver Floating Home Co-Op    519\n",
       "Advanced Parking Systems Ltd             678\n",
       "Starbucks Coffee Canada Inc              824\n",
       "Imperial Parking Canada Corporation      947\n",
       "Name: FOLDERYEAR, Length: 93557, dtype: int64"
      ]
     },
     "execution_count": 85,
     "metadata": {},
     "output_type": "execute_result"
    }
   ],
   "source": [
    "counts_of_records = df.groupby(by=\"BusinessName\")[\"FOLDERYEAR\"].count().sort_values()\n",
    "counts_of_records"
   ]
  },
  {
   "cell_type": "code",
   "execution_count": 86,
   "metadata": {},
   "outputs": [
    {
     "data": {
      "text/plain": [
       "NumberofEmployees\n",
       "134.0          1\n",
       "183.0          1\n",
       "269.0          1\n",
       "1251.0         1\n",
       "1250.0         1\n",
       "           ...  \n",
       "4.0        22361\n",
       "3.0        30309\n",
       "2.0        53557\n",
       "1.0       103307\n",
       "0.0       240561\n",
       "Name: NumberofEmployees, Length: 362, dtype: int64"
      ]
     },
     "execution_count": 86,
     "metadata": {},
     "output_type": "execute_result"
    }
   ],
   "source": [
    "num_of_employees = df.groupby(by=\"NumberofEmployees\")[\"NumberofEmployees\"].count().sort_values()\n",
    "num_of_employees"
   ]
  },
  {
   "cell_type": "code",
   "execution_count": 87,
   "metadata": {},
   "outputs": [],
   "source": [
    "import matplotlib.pyplot as plt\n"
   ]
  },
  {
   "cell_type": "code",
   "execution_count": 88,
   "metadata": {},
   "outputs": [
    {
     "data": {
      "text/plain": [
       "(0.0, 100.0)"
      ]
     },
     "execution_count": 88,
     "metadata": {},
     "output_type": "execute_result"
    },
    {
     "data": {
      "image/png": "[encoded data removed]",
      "text/plain": [
       "<Figure size 432x288 with 1 Axes>"
      ]
     },
     "metadata": {
      "needs_background": "light"
     },
     "output_type": "display_data"
    }
   ],
   "source": [
    "plt.hist(counts_of_records, bins = 500);\n",
    "plt.xlim([0, 100])"
   ]
  },
  {
   "cell_type": "code",
   "execution_count": 89,
   "metadata": {},
   "outputs": [
    {
     "data": {
      "text/plain": [
       "(0.0, 12.0)"
      ]
     },
     "execution_count": 89,
     "metadata": {},
     "output_type": "execute_result"
    },
    {
     "data": {
      "image/png": "[encoded data removed]",
      "text/plain": [
       "<Figure size 432x288 with 1 Axes>"
      ]
     },
     "metadata": {
      "needs_background": "light"
     },
     "output_type": "display_data"
    }
   ],
   "source": [
    "plt.hist(num_of_employees, bins = 500);\n",
    "plt.ylim([0, 12])"
   ]
  },
  {
   "cell_type": "code",
   "execution_count": 90,
   "metadata": {},
   "outputs": [],
   "source": [
    "df_no_nan = df.dropna(subset=['BusinessName'])\n",
    "contain_brackets = df_no_nan[df_no_nan['BusinessName'].str.contains('(', regex=False)]"
   ]
  },
  {
   "cell_type": "code",
   "execution_count": 91,
   "metadata": {},
   "outputs": [
    {
     "data": {
      "text/plain": [
       "35050"
      ]
     },
     "execution_count": 91,
     "metadata": {},
     "output_type": "execute_result"
    }
   ],
   "source": [
    "len(contain_brackets.BusinessName.unique())"
   ]
  },
  {
   "cell_type": "code",
   "execution_count": 92,
   "metadata": {},
   "outputs": [
    {
     "data": {
      "text/html": [
       "<div>\n",
       "<style scoped>\n",
       "    .dataframe tbody tr th:only-of-type {\n",
       "        vertical-align: middle;\n",
       "    }\n",
       "\n",
       "    .dataframe tbody tr th {\n",
       "        vertical-align: top;\n",
       "    }\n",
       "\n",
       "    .dataframe thead th {\n",
       "        text-align: right;\n",
       "    }\n",
       "</style>\n",
       "<table border=\"1\" class=\"dataframe\">\n",
       "  <thead>\n",
       "    <tr style=\"text-align: right;\">\n",
       "      <th></th>\n",
       "      <th>FOLDERYEAR</th>\n",
       "      <th>LicenceRSN</th>\n",
       "      <th>LicenceNumber</th>\n",
       "      <th>LicenceRevisionNumber</th>\n",
       "      <th>BusinessName</th>\n",
       "      <th>BusinessTradeName</th>\n",
       "      <th>Status</th>\n",
       "      <th>IssuedDate</th>\n",
       "      <th>ExpiredDate</th>\n",
       "      <th>BusinessType</th>\n",
       "      <th>...</th>\n",
       "      <th>Street</th>\n",
       "      <th>City</th>\n",
       "      <th>Province</th>\n",
       "      <th>Country</th>\n",
       "      <th>PostalCode</th>\n",
       "      <th>LocalArea</th>\n",
       "      <th>NumberofEmployees</th>\n",
       "      <th>FeePaid</th>\n",
       "      <th>ExtractDate</th>\n",
       "      <th>Geom</th>\n",
       "    </tr>\n",
       "  </thead>\n",
       "  <tbody>\n",
       "    <tr>\n",
       "      <th>4</th>\n",
       "      <td>13</td>\n",
       "      <td>2180556</td>\n",
       "      <td>13-449866</td>\n",
       "      <td>0</td>\n",
       "      <td>(Maiko Sato)</td>\n",
       "      <td>Nankurunaisa Education Services</td>\n",
       "      <td>Issued</td>\n",
       "      <td>2013-12-17T16:18:45-05:00</td>\n",
       "      <td>2013-12-31</td>\n",
       "      <td>Referral Services</td>\n",
       "      <td>...</td>\n",
       "      <td>NaN</td>\n",
       "      <td>Vancouver</td>\n",
       "      <td>BC</td>\n",
       "      <td>CA</td>\n",
       "      <td>NaN</td>\n",
       "      <td>Riley Park</td>\n",
       "      <td>1.0</td>\n",
       "      <td>62.0</td>\n",
       "      <td>2019-07-21T16:49:13-04:00</td>\n",
       "      <td>NaN</td>\n",
       "    </tr>\n",
       "    <tr>\n",
       "      <th>7</th>\n",
       "      <td>14</td>\n",
       "      <td>2180593</td>\n",
       "      <td>14-160347</td>\n",
       "      <td>0</td>\n",
       "      <td>Wei Hsuen (Kathy) Chou &amp; Chi Hao Chen</td>\n",
       "      <td>My Fluffy Friend's Pet Shop</td>\n",
       "      <td>Issued</td>\n",
       "      <td>2013-12-06T16:56:09-05:00</td>\n",
       "      <td>2014-12-31</td>\n",
       "      <td>Animal Services</td>\n",
       "      <td>...</td>\n",
       "      <td>CYPRESS ST</td>\n",
       "      <td>Vancouver</td>\n",
       "      <td>BC</td>\n",
       "      <td>CA</td>\n",
       "      <td>V6J 5J1</td>\n",
       "      <td>Kitsilano</td>\n",
       "      <td>0.0</td>\n",
       "      <td>130.0</td>\n",
       "      <td>2019-07-21T16:49:13-04:00</td>\n",
       "      <td>{\"type\": \"Point\", \"coordinates\": [-123.1473952...</td>\n",
       "    </tr>\n",
       "    <tr>\n",
       "      <th>10</th>\n",
       "      <td>14</td>\n",
       "      <td>2180667</td>\n",
       "      <td>14-127846</td>\n",
       "      <td>1</td>\n",
       "      <td>Yee Ha Lau (Yee Lau)</td>\n",
       "      <td>NaN</td>\n",
       "      <td>Issued</td>\n",
       "      <td>2013-12-06T18:28:29-05:00</td>\n",
       "      <td>2014-12-31</td>\n",
       "      <td>Multiple Dwelling</td>\n",
       "      <td>...</td>\n",
       "      <td>NaN</td>\n",
       "      <td>Vancouver</td>\n",
       "      <td>BC</td>\n",
       "      <td>CA</td>\n",
       "      <td>NaN</td>\n",
       "      <td>Fairview</td>\n",
       "      <td>0.0</td>\n",
       "      <td>10.0</td>\n",
       "      <td>2019-07-21T16:49:13-04:00</td>\n",
       "      <td>NaN</td>\n",
       "    </tr>\n",
       "    <tr>\n",
       "      <th>11</th>\n",
       "      <td>13</td>\n",
       "      <td>2180702</td>\n",
       "      <td>13-449988</td>\n",
       "      <td>0</td>\n",
       "      <td>(Ermilo Martinez Juarez)</td>\n",
       "      <td>Erma Renovations</td>\n",
       "      <td>Issued</td>\n",
       "      <td>2013-12-06T19:27:46-05:00</td>\n",
       "      <td>2013-12-31</td>\n",
       "      <td>Contractor</td>\n",
       "      <td>...</td>\n",
       "      <td>NaN</td>\n",
       "      <td>Vancouver</td>\n",
       "      <td>BC</td>\n",
       "      <td>CA</td>\n",
       "      <td>NaN</td>\n",
       "      <td>West End</td>\n",
       "      <td>1.0</td>\n",
       "      <td>63.0</td>\n",
       "      <td>2019-07-21T16:49:13-04:00</td>\n",
       "      <td>NaN</td>\n",
       "    </tr>\n",
       "    <tr>\n",
       "      <th>12</th>\n",
       "      <td>13</td>\n",
       "      <td>2181387</td>\n",
       "      <td>13-450197</td>\n",
       "      <td>0</td>\n",
       "      <td>(Christopher Wall)</td>\n",
       "      <td>NaN</td>\n",
       "      <td>Pending</td>\n",
       "      <td>NaN</td>\n",
       "      <td>NaN</td>\n",
       "      <td>Apartment House</td>\n",
       "      <td>...</td>\n",
       "      <td>YUKON ST</td>\n",
       "      <td>Vancouver</td>\n",
       "      <td>BC</td>\n",
       "      <td>CA</td>\n",
       "      <td>V5Y 3P8</td>\n",
       "      <td>Mount Pleasant</td>\n",
       "      <td>0.0</td>\n",
       "      <td>NaN</td>\n",
       "      <td>2019-07-21T16:49:13-04:00</td>\n",
       "      <td>{\"type\": \"Point\", \"coordinates\": [-123.1126274...</td>\n",
       "    </tr>\n",
       "    <tr>\n",
       "      <th>...</th>\n",
       "      <td>...</td>\n",
       "      <td>...</td>\n",
       "      <td>...</td>\n",
       "      <td>...</td>\n",
       "      <td>...</td>\n",
       "      <td>...</td>\n",
       "      <td>...</td>\n",
       "      <td>...</td>\n",
       "      <td>...</td>\n",
       "      <td>...</td>\n",
       "      <td>...</td>\n",
       "      <td>...</td>\n",
       "      <td>...</td>\n",
       "      <td>...</td>\n",
       "      <td>...</td>\n",
       "      <td>...</td>\n",
       "      <td>...</td>\n",
       "      <td>...</td>\n",
       "      <td>...</td>\n",
       "      <td>...</td>\n",
       "      <td>...</td>\n",
       "    </tr>\n",
       "    <tr>\n",
       "      <th>569016</th>\n",
       "      <td>21</td>\n",
       "      <td>3729701</td>\n",
       "      <td>21-147185</td>\n",
       "      <td>0</td>\n",
       "      <td>Comfort Upholstery (2003) Ltd</td>\n",
       "      <td>NaN</td>\n",
       "      <td>Issued</td>\n",
       "      <td>2020-12-03T14:32:26-05:00</td>\n",
       "      <td>2021-12-31</td>\n",
       "      <td>Repair/ Service/Maintenance</td>\n",
       "      <td>...</td>\n",
       "      <td>E KENT AV SOUTH</td>\n",
       "      <td>Vancouver</td>\n",
       "      <td>BC</td>\n",
       "      <td>CA</td>\n",
       "      <td>V5X 0B2</td>\n",
       "      <td>Sunset</td>\n",
       "      <td>2.0</td>\n",
       "      <td>155.0</td>\n",
       "      <td>2021-02-22T03:08:55-05:00</td>\n",
       "      <td>{\"type\": \"Point\", \"coordinates\": [-123.0929115...</td>\n",
       "    </tr>\n",
       "    <tr>\n",
       "      <th>569018</th>\n",
       "      <td>21</td>\n",
       "      <td>3729703</td>\n",
       "      <td>21-147187</td>\n",
       "      <td>0</td>\n",
       "      <td>(Julio Perez Vertti)</td>\n",
       "      <td>Bikes and Blades Rentals</td>\n",
       "      <td>Pending</td>\n",
       "      <td>NaN</td>\n",
       "      <td>NaN</td>\n",
       "      <td>Repair/ Service/Maintenance</td>\n",
       "      <td>...</td>\n",
       "      <td>ROBSON ST</td>\n",
       "      <td>Vancouver</td>\n",
       "      <td>BC</td>\n",
       "      <td>CA</td>\n",
       "      <td>V6G 1C1</td>\n",
       "      <td>West End</td>\n",
       "      <td>8.0</td>\n",
       "      <td>155.0</td>\n",
       "      <td>2021-02-22T03:08:55-05:00</td>\n",
       "      <td>{\"type\": \"Point\", \"coordinates\": [-123.1305640...</td>\n",
       "    </tr>\n",
       "    <tr>\n",
       "      <th>569021</th>\n",
       "      <td>21</td>\n",
       "      <td>3729710</td>\n",
       "      <td>21-147194</td>\n",
       "      <td>0</td>\n",
       "      <td>Amir Q Shatertoussi (Amir Shatertoussi)</td>\n",
       "      <td>Toussi Jewellery</td>\n",
       "      <td>Issued</td>\n",
       "      <td>2020-12-20T20:18:10-05:00</td>\n",
       "      <td>2021-12-31</td>\n",
       "      <td>Repair/ Service/Maintenance</td>\n",
       "      <td>...</td>\n",
       "      <td>GRANVILLE ST</td>\n",
       "      <td>Vancouver</td>\n",
       "      <td>BC</td>\n",
       "      <td>CA</td>\n",
       "      <td>V6Z 1K9</td>\n",
       "      <td>Downtown</td>\n",
       "      <td>1.0</td>\n",
       "      <td>155.0</td>\n",
       "      <td>2021-02-22T03:08:55-05:00</td>\n",
       "      <td>{\"type\": \"Point\", \"coordinates\": [-123.1205796...</td>\n",
       "    </tr>\n",
       "    <tr>\n",
       "      <th>569022</th>\n",
       "      <td>21</td>\n",
       "      <td>3729711</td>\n",
       "      <td>21-147195</td>\n",
       "      <td>0</td>\n",
       "      <td>(Neil-Hung Tsao)</td>\n",
       "      <td>K8 Strings</td>\n",
       "      <td>Pending</td>\n",
       "      <td>NaN</td>\n",
       "      <td>NaN</td>\n",
       "      <td>Repair/ Service/Maintenance</td>\n",
       "      <td>...</td>\n",
       "      <td>RENFREW ST</td>\n",
       "      <td>Vancouver</td>\n",
       "      <td>BC</td>\n",
       "      <td>CA</td>\n",
       "      <td>V5K 4C9</td>\n",
       "      <td>Hastings-Sunrise</td>\n",
       "      <td>1.0</td>\n",
       "      <td>155.0</td>\n",
       "      <td>2021-02-22T03:08:55-05:00</td>\n",
       "      <td>{\"type\": \"Point\", \"coordinates\": [-123.0446858...</td>\n",
       "    </tr>\n",
       "    <tr>\n",
       "      <th>569023</th>\n",
       "      <td>21</td>\n",
       "      <td>3729717</td>\n",
       "      <td>21-147201</td>\n",
       "      <td>0</td>\n",
       "      <td>(Jeffrey Liu)</td>\n",
       "      <td>Fraserview Bike Mechanic</td>\n",
       "      <td>Issued</td>\n",
       "      <td>2020-12-05T03:36:00-05:00</td>\n",
       "      <td>2021-12-31</td>\n",
       "      <td>Repair/ Service/Maintenance</td>\n",
       "      <td>...</td>\n",
       "      <td>NaN</td>\n",
       "      <td>Vancouver</td>\n",
       "      <td>BC</td>\n",
       "      <td>CA</td>\n",
       "      <td>NaN</td>\n",
       "      <td>Killarney</td>\n",
       "      <td>0.0</td>\n",
       "      <td>233.0</td>\n",
       "      <td>2021-02-22T03:08:55-05:00</td>\n",
       "      <td>NaN</td>\n",
       "    </tr>\n",
       "  </tbody>\n",
       "</table>\n",
       "<p>183623 rows × 24 columns</p>\n",
       "</div>"
      ],
      "text/plain": [
       "        FOLDERYEAR  LicenceRSN LicenceNumber  LicenceRevisionNumber  \\\n",
       "4               13     2180556     13-449866                      0   \n",
       "7               14     2180593     14-160347                      0   \n",
       "10              14     2180667     14-127846                      1   \n",
       "11              13     2180702     13-449988                      0   \n",
       "12              13     2181387     13-450197                      0   \n",
       "...            ...         ...           ...                    ...   \n",
       "569016          21     3729701     21-147185                      0   \n",
       "569018          21     3729703     21-147187                      0   \n",
       "569021          21     3729710     21-147194                      0   \n",
       "569022          21     3729711     21-147195                      0   \n",
       "569023          21     3729717     21-147201                      0   \n",
       "\n",
       "                                   BusinessName  \\\n",
       "4                                  (Maiko Sato)   \n",
       "7         Wei Hsuen (Kathy) Chou & Chi Hao Chen   \n",
       "10                         Yee Ha Lau (Yee Lau)   \n",
       "11                     (Ermilo Martinez Juarez)   \n",
       "12                           (Christopher Wall)   \n",
       "...                                         ...   \n",
       "569016            Comfort Upholstery (2003) Ltd   \n",
       "569018                     (Julio Perez Vertti)   \n",
       "569021  Amir Q Shatertoussi (Amir Shatertoussi)   \n",
       "569022                         (Neil-Hung Tsao)   \n",
       "569023                            (Jeffrey Liu)   \n",
       "\n",
       "                      BusinessTradeName   Status                 IssuedDate  \\\n",
       "4       Nankurunaisa Education Services   Issued  2013-12-17T16:18:45-05:00   \n",
       "7           My Fluffy Friend's Pet Shop   Issued  2013-12-06T16:56:09-05:00   \n",
       "10                                  NaN   Issued  2013-12-06T18:28:29-05:00   \n",
       "11                     Erma Renovations   Issued  2013-12-06T19:27:46-05:00   \n",
       "12                                  NaN  Pending                        NaN   \n",
       "...                                 ...      ...                        ...   \n",
       "569016                              NaN   Issued  2020-12-03T14:32:26-05:00   \n",
       "569018         Bikes and Blades Rentals  Pending                        NaN   \n",
       "569021                 Toussi Jewellery   Issued  2020-12-20T20:18:10-05:00   \n",
       "569022                       K8 Strings  Pending                        NaN   \n",
       "569023         Fraserview Bike Mechanic   Issued  2020-12-05T03:36:00-05:00   \n",
       "\n",
       "       ExpiredDate                 BusinessType  ...           Street  \\\n",
       "4       2013-12-31            Referral Services  ...              NaN   \n",
       "7       2014-12-31              Animal Services  ...       CYPRESS ST   \n",
       "10      2014-12-31            Multiple Dwelling  ...              NaN   \n",
       "11      2013-12-31                   Contractor  ...              NaN   \n",
       "12             NaN              Apartment House  ...         YUKON ST   \n",
       "...            ...                          ...  ...              ...   \n",
       "569016  2021-12-31  Repair/ Service/Maintenance  ...  E KENT AV SOUTH   \n",
       "569018         NaN  Repair/ Service/Maintenance  ...        ROBSON ST   \n",
       "569021  2021-12-31  Repair/ Service/Maintenance  ...     GRANVILLE ST   \n",
       "569022         NaN  Repair/ Service/Maintenance  ...       RENFREW ST   \n",
       "569023  2021-12-31  Repair/ Service/Maintenance  ...              NaN   \n",
       "\n",
       "             City Province Country PostalCode         LocalArea  \\\n",
       "4       Vancouver       BC      CA        NaN        Riley Park   \n",
       "7       Vancouver       BC      CA    V6J 5J1         Kitsilano   \n",
       "10      Vancouver       BC      CA        NaN          Fairview   \n",
       "11      Vancouver       BC      CA        NaN          West End   \n",
       "12      Vancouver       BC      CA    V5Y 3P8    Mount Pleasant   \n",
       "...           ...      ...     ...        ...               ...   \n",
       "569016  Vancouver       BC      CA    V5X 0B2            Sunset   \n",
       "569018  Vancouver       BC      CA    V6G 1C1          West End   \n",
       "569021  Vancouver       BC      CA    V6Z 1K9          Downtown   \n",
       "569022  Vancouver       BC      CA    V5K 4C9  Hastings-Sunrise   \n",
       "569023  Vancouver       BC      CA        NaN         Killarney   \n",
       "\n",
       "       NumberofEmployees FeePaid                ExtractDate  \\\n",
       "4                    1.0    62.0  2019-07-21T16:49:13-04:00   \n",
       "7                    0.0   130.0  2019-07-21T16:49:13-04:00   \n",
       "10                   0.0    10.0  2019-07-21T16:49:13-04:00   \n",
       "11                   1.0    63.0  2019-07-21T16:49:13-04:00   \n",
       "12                   0.0     NaN  2019-07-21T16:49:13-04:00   \n",
       "...                  ...     ...                        ...   \n",
       "569016               2.0   155.0  2021-02-22T03:08:55-05:00   \n",
       "569018               8.0   155.0  2021-02-22T03:08:55-05:00   \n",
       "569021               1.0   155.0  2021-02-22T03:08:55-05:00   \n",
       "569022               1.0   155.0  2021-02-22T03:08:55-05:00   \n",
       "569023               0.0   233.0  2021-02-22T03:08:55-05:00   \n",
       "\n",
       "                                                     Geom  \n",
       "4                                                     NaN  \n",
       "7       {\"type\": \"Point\", \"coordinates\": [-123.1473952...  \n",
       "10                                                    NaN  \n",
       "11                                                    NaN  \n",
       "12      {\"type\": \"Point\", \"coordinates\": [-123.1126274...  \n",
       "...                                                   ...  \n",
       "569016  {\"type\": \"Point\", \"coordinates\": [-123.0929115...  \n",
       "569018  {\"type\": \"Point\", \"coordinates\": [-123.1305640...  \n",
       "569021  {\"type\": \"Point\", \"coordinates\": [-123.1205796...  \n",
       "569022  {\"type\": \"Point\", \"coordinates\": [-123.0446858...  \n",
       "569023                                                NaN  \n",
       "\n",
       "[183623 rows x 24 columns]"
      ]
     },
     "execution_count": 92,
     "metadata": {},
     "output_type": "execute_result"
    }
   ],
   "source": [
    "contain_brackets"
   ]
  },
  {
   "cell_type": "code",
   "execution_count": 93,
   "metadata": {},
   "outputs": [
    {
     "data": {
      "text/plain": [
       "0         V5Y 1G1\n",
       "1         V6B 6N9\n",
       "2         V6A 1S9\n",
       "3         V6M 4J7\n",
       "5         V6A 2S7\n",
       "           ...   \n",
       "569020    V5N 5X1\n",
       "569021    V6Z 1K9\n",
       "569022    V5K 4C9\n",
       "569024    V5T 3G8\n",
       "569026    V6R 2G4\n",
       "Name: PostalCode, Length: 308835, dtype: object"
      ]
     },
     "execution_count": 93,
     "metadata": {},
     "output_type": "execute_result"
    }
   ],
   "source": [
    "df_no_nan = df.dropna(subset=['PostalCode'])\n",
    "df_no_nan.PostalCode"
   ]
  },
  {
   "cell_type": "code",
   "execution_count": 94,
   "metadata": {},
   "outputs": [
    {
     "data": {
      "text/plain": [
       "637            V5Z\n",
       "1492        V6P 65\n",
       "3379      V6JJ 1H6\n",
       "3620       V6B 4NB\n",
       "3790       V6C 2XB\n",
       "            ...   \n",
       "567070     V3W 26Y\n",
       "567163     V6E 2YE\n",
       "568339    V5N 1 V9\n",
       "568487     V74 1K8\n",
       "568800     V6C 3LZ\n",
       "Name: PostalCode, Length: 740, dtype: object"
      ]
     },
     "execution_count": 94,
     "metadata": {},
     "output_type": "execute_result"
    }
   ],
   "source": [
    "incorrect_postal_codes = df_no_nan[~df_no_nan['PostalCode'].str.contains(\"^[A-Za-z]\\d[A-Za-z][ -]*\\d[A-Za-z]\\d\")]['PostalCode']\n",
    "incorrect_postal_codes"
   ]
  },
  {
   "cell_type": "code",
   "execution_count": 95,
   "metadata": {},
   "outputs": [],
   "source": [
    "#df_no_nan['PostalCode'].str.replace(\" \",\"\")"
   ]
  },
  {
   "cell_type": "code",
   "execution_count": 96,
   "metadata": {},
   "outputs": [
    {
     "data": {
      "text/plain": [
       "0         V5Y1G1\n",
       "1         V6B6N9\n",
       "2         V6A1S9\n",
       "3         V6M4J7\n",
       "5         V6A2S7\n",
       "           ...  \n",
       "569020    V5N5X1\n",
       "569021    V6Z1K9\n",
       "569022    V5K4C9\n",
       "569024    V5T3G8\n",
       "569026    V6R2G4\n",
       "Name: PostalCode, Length: 308117, dtype: object"
      ]
     },
     "execution_count": 96,
     "metadata": {},
     "output_type": "execute_result"
    }
   ],
   "source": [
    "series = df_no_nan['PostalCode'].str.replace(\" \",\"\")\n",
    "correct_postal_codes = series.where(series.str.contains(\"^[A-Za-z]\\d[A-Za-z][ -]*\\d[A-Za-z]\\d\")).dropna()\n",
    "correct_postal_codes"
   ]
  },
  {
   "cell_type": "code",
   "execution_count": 97,
   "metadata": {},
   "outputs": [
    {
     "data": {
      "text/plain": [
       "Int64Index([     0,      1,      2,      3,      5,      6,      7,      8,\n",
       "                 9,     12,\n",
       "            ...\n",
       "            569012, 569015, 569016, 569017, 569018, 569020, 569021, 569022,\n",
       "            569024, 569026],\n",
       "           dtype='int64', length=308117)"
      ]
     },
     "execution_count": 97,
     "metadata": {},
     "output_type": "execute_result"
    }
   ],
   "source": [
    "correct_postal_codes.index"
   ]
  },
  {
   "cell_type": "code",
   "execution_count": 102,
   "metadata": {},
   "outputs": [
    {
     "data": {
      "text/plain": [
       "Province\n",
       "AB                      13\n",
       "BC                  308396\n",
       "British Columbia        63\n",
       "CA                       9\n",
       "CT                       5\n",
       "FL                       7\n",
       "MA                       4\n",
       "NJ                       1\n",
       "NY                       3\n",
       "OH                       1\n",
       "ON                     117\n",
       "On                       1\n",
       "Ontario                  2\n",
       "QC                       5\n",
       "TX                       3\n",
       "VA                       2\n",
       "WA                      12\n",
       "`                        2\n",
       "bc                      30\n",
       "Name: Province, dtype: int64"
      ]
     },
     "execution_count": 102,
     "metadata": {},
     "output_type": "execute_result"
    }
   ],
   "source": [
    "df_no_nan.groupby(by=\"Province\")[\"Province\"].count()"
   ]
  },
  {
   "cell_type": "code",
   "execution_count": null,
   "metadata": {},
   "outputs": [],
   "source": [
    "df_no_nan[\"\"]"
   ]
  },
  {
   "cell_type": "code",
   "execution_count": 59,
   "metadata": {},
   "outputs": [],
   "source": [
    "#df_no_nan[~df_no_nan['PostalCode'].str.contains(\"^[A-Za-z]\\d[A-Za-z][ -]*\\d[A-Za-z]\\d\")]['PostalCode']"
   ]
  },
  {
   "cell_type": "code",
   "execution_count": 105,
   "metadata": {},
   "outputs": [
    {
     "ename": "KeyboardInterrupt",
     "evalue": "",
     "output_type": "error",
     "traceback": [
      "\u001b[0;31m---------------------------------------------------------------------------\u001b[0m",
      "\u001b[0;31mKeyboardInterrupt\u001b[0m                         Traceback (most recent call last)",
      "\u001b[0;32m<ipython-input-105-8c1d330aa3ed>\u001b[0m in \u001b[0;36m<module>\u001b[0;34m\u001b[0m\n\u001b[1;32m      1\u001b[0m \u001b[0;32mimport\u001b[0m \u001b[0maltair\u001b[0m \u001b[0;32mas\u001b[0m \u001b[0malt\u001b[0m\u001b[0;34m\u001b[0m\u001b[0;34m\u001b[0m\u001b[0m\n\u001b[1;32m      2\u001b[0m \u001b[0malt\u001b[0m\u001b[0;34m.\u001b[0m\u001b[0mdata_transformers\u001b[0m\u001b[0;34m.\u001b[0m\u001b[0mdisable_max_rows\u001b[0m\u001b[0;34m(\u001b[0m\u001b[0;34m)\u001b[0m\u001b[0;34m\u001b[0m\u001b[0;34m\u001b[0m\u001b[0m\n\u001b[0;32m----> 3\u001b[0;31m alt.Chart(df).mark_line().encode(\n\u001b[0m\u001b[1;32m      4\u001b[0m     \u001b[0my\u001b[0m\u001b[0;34m=\u001b[0m\u001b[0;34m'NumberofEmployees'\u001b[0m\u001b[0;34m,\u001b[0m\u001b[0;34m\u001b[0m\u001b[0;34m\u001b[0m\u001b[0m\n\u001b[1;32m      5\u001b[0m     \u001b[0mx\u001b[0m\u001b[0;34m=\u001b[0m\u001b[0;34m'FOLDERYEAR'\u001b[0m\u001b[0;34m\u001b[0m\u001b[0;34m\u001b[0m\u001b[0m\n",
      "\u001b[0;32m/opt/miniconda3/envs/532/lib/python3.9/site-packages/IPython/core/displayhook.py\u001b[0m in \u001b[0;36m__call__\u001b[0;34m(self, result)\u001b[0m\n\u001b[1;32m    260\u001b[0m             \u001b[0mself\u001b[0m\u001b[0;34m.\u001b[0m\u001b[0mstart_displayhook\u001b[0m\u001b[0;34m(\u001b[0m\u001b[0;34m)\u001b[0m\u001b[0;34m\u001b[0m\u001b[0;34m\u001b[0m\u001b[0m\n\u001b[1;32m    261\u001b[0m             \u001b[0mself\u001b[0m\u001b[0;34m.\u001b[0m\u001b[0mwrite_output_prompt\u001b[0m\u001b[0;34m(\u001b[0m\u001b[0;34m)\u001b[0m\u001b[0;34m\u001b[0m\u001b[0;34m\u001b[0m\u001b[0m\n\u001b[0;32m--> 262\u001b[0;31m             \u001b[0mformat_dict\u001b[0m\u001b[0;34m,\u001b[0m \u001b[0mmd_dict\u001b[0m \u001b[0;34m=\u001b[0m \u001b[0mself\u001b[0m\u001b[0;34m.\u001b[0m\u001b[0mcompute_format_data\u001b[0m\u001b[0;34m(\u001b[0m\u001b[0mresult\u001b[0m\u001b[0;34m)\u001b[0m\u001b[0;34m\u001b[0m\u001b[0;34m\u001b[0m\u001b[0m\n\u001b[0m\u001b[1;32m    263\u001b[0m             \u001b[0mself\u001b[0m\u001b[0;34m.\u001b[0m\u001b[0mupdate_user_ns\u001b[0m\u001b[0;34m(\u001b[0m\u001b[0mresult\u001b[0m\u001b[0;34m)\u001b[0m\u001b[0;34m\u001b[0m\u001b[0;34m\u001b[0m\u001b[0m\n\u001b[1;32m    264\u001b[0m             \u001b[0mself\u001b[0m\u001b[0;34m.\u001b[0m\u001b[0mfill_exec_result\u001b[0m\u001b[0;34m(\u001b[0m\u001b[0mresult\u001b[0m\u001b[0;34m)\u001b[0m\u001b[0;34m\u001b[0m\u001b[0;34m\u001b[0m\u001b[0m\n",
      "\u001b[0;32m/opt/miniconda3/envs/532/lib/python3.9/site-packages/IPython/core/displayhook.py\u001b[0m in \u001b[0;36mcompute_format_data\u001b[0;34m(self, result)\u001b[0m\n\u001b[1;32m    149\u001b[0m \u001b[0;34m\u001b[0m\u001b[0m\n\u001b[1;32m    150\u001b[0m         \"\"\"\n\u001b[0;32m--> 151\u001b[0;31m         \u001b[0;32mreturn\u001b[0m \u001b[0mself\u001b[0m\u001b[0;34m.\u001b[0m\u001b[0mshell\u001b[0m\u001b[0;34m.\u001b[0m\u001b[0mdisplay_formatter\u001b[0m\u001b[0;34m.\u001b[0m\u001b[0mformat\u001b[0m\u001b[0;34m(\u001b[0m\u001b[0mresult\u001b[0m\u001b[0;34m)\u001b[0m\u001b[0;34m\u001b[0m\u001b[0;34m\u001b[0m\u001b[0m\n\u001b[0m\u001b[1;32m    152\u001b[0m \u001b[0;34m\u001b[0m\u001b[0m\n\u001b[1;32m    153\u001b[0m     \u001b[0;31m# This can be set to True by the write_output_prompt method in a subclass\u001b[0m\u001b[0;34m\u001b[0m\u001b[0;34m\u001b[0m\u001b[0;34m\u001b[0m\u001b[0m\n",
      "\u001b[0;32m/opt/miniconda3/envs/532/lib/python3.9/site-packages/IPython/core/formatters.py\u001b[0m in \u001b[0;36mformat\u001b[0;34m(self, obj, include, exclude)\u001b[0m\n\u001b[1;32m    148\u001b[0m             \u001b[0;32mreturn\u001b[0m \u001b[0;34m{\u001b[0m\u001b[0;34m}\u001b[0m\u001b[0;34m,\u001b[0m \u001b[0;34m{\u001b[0m\u001b[0;34m}\u001b[0m\u001b[0;34m\u001b[0m\u001b[0;34m\u001b[0m\u001b[0m\n\u001b[1;32m    149\u001b[0m \u001b[0;34m\u001b[0m\u001b[0m\n\u001b[0;32m--> 150\u001b[0;31m         \u001b[0mformat_dict\u001b[0m\u001b[0;34m,\u001b[0m \u001b[0mmd_dict\u001b[0m \u001b[0;34m=\u001b[0m \u001b[0mself\u001b[0m\u001b[0;34m.\u001b[0m\u001b[0mmimebundle_formatter\u001b[0m\u001b[0;34m(\u001b[0m\u001b[0mobj\u001b[0m\u001b[0;34m,\u001b[0m \u001b[0minclude\u001b[0m\u001b[0;34m=\u001b[0m\u001b[0minclude\u001b[0m\u001b[0;34m,\u001b[0m \u001b[0mexclude\u001b[0m\u001b[0;34m=\u001b[0m\u001b[0mexclude\u001b[0m\u001b[0;34m)\u001b[0m\u001b[0;34m\u001b[0m\u001b[0;34m\u001b[0m\u001b[0m\n\u001b[0m\u001b[1;32m    151\u001b[0m \u001b[0;34m\u001b[0m\u001b[0m\n\u001b[1;32m    152\u001b[0m         \u001b[0;32mif\u001b[0m \u001b[0mformat_dict\u001b[0m \u001b[0;32mor\u001b[0m \u001b[0mmd_dict\u001b[0m\u001b[0;34m:\u001b[0m\u001b[0;34m\u001b[0m\u001b[0;34m\u001b[0m\u001b[0m\n",
      "\u001b[0;32m<decorator-gen-5>\u001b[0m in \u001b[0;36m__call__\u001b[0;34m(self, obj, include, exclude)\u001b[0m\n",
      "\u001b[0;32m/opt/miniconda3/envs/532/lib/python3.9/site-packages/IPython/core/formatters.py\u001b[0m in \u001b[0;36mcatch_format_error\u001b[0;34m(method, self, *args, **kwargs)\u001b[0m\n\u001b[1;32m    222\u001b[0m     \u001b[0;34m\"\"\"show traceback on failed format call\"\"\"\u001b[0m\u001b[0;34m\u001b[0m\u001b[0;34m\u001b[0m\u001b[0m\n\u001b[1;32m    223\u001b[0m     \u001b[0;32mtry\u001b[0m\u001b[0;34m:\u001b[0m\u001b[0;34m\u001b[0m\u001b[0;34m\u001b[0m\u001b[0m\n\u001b[0;32m--> 224\u001b[0;31m         \u001b[0mr\u001b[0m \u001b[0;34m=\u001b[0m \u001b[0mmethod\u001b[0m\u001b[0;34m(\u001b[0m\u001b[0mself\u001b[0m\u001b[0;34m,\u001b[0m \u001b[0;34m*\u001b[0m\u001b[0margs\u001b[0m\u001b[0;34m,\u001b[0m \u001b[0;34m**\u001b[0m\u001b[0mkwargs\u001b[0m\u001b[0;34m)\u001b[0m\u001b[0;34m\u001b[0m\u001b[0;34m\u001b[0m\u001b[0m\n\u001b[0m\u001b[1;32m    225\u001b[0m     \u001b[0;32mexcept\u001b[0m \u001b[0mNotImplementedError\u001b[0m\u001b[0;34m:\u001b[0m\u001b[0;34m\u001b[0m\u001b[0;34m\u001b[0m\u001b[0m\n\u001b[1;32m    226\u001b[0m         \u001b[0;31m# don't warn on NotImplementedErrors\u001b[0m\u001b[0;34m\u001b[0m\u001b[0;34m\u001b[0m\u001b[0;34m\u001b[0m\u001b[0m\n",
      "\u001b[0;32m/opt/miniconda3/envs/532/lib/python3.9/site-packages/IPython/core/formatters.py\u001b[0m in \u001b[0;36m__call__\u001b[0;34m(self, obj, include, exclude)\u001b[0m\n\u001b[1;32m    968\u001b[0m \u001b[0;34m\u001b[0m\u001b[0m\n\u001b[1;32m    969\u001b[0m             \u001b[0;32mif\u001b[0m \u001b[0mmethod\u001b[0m \u001b[0;32mis\u001b[0m \u001b[0;32mnot\u001b[0m \u001b[0;32mNone\u001b[0m\u001b[0;34m:\u001b[0m\u001b[0;34m\u001b[0m\u001b[0;34m\u001b[0m\u001b[0m\n\u001b[0;32m--> 970\u001b[0;31m                 \u001b[0;32mreturn\u001b[0m \u001b[0mmethod\u001b[0m\u001b[0;34m(\u001b[0m\u001b[0minclude\u001b[0m\u001b[0;34m=\u001b[0m\u001b[0minclude\u001b[0m\u001b[0;34m,\u001b[0m \u001b[0mexclude\u001b[0m\u001b[0;34m=\u001b[0m\u001b[0mexclude\u001b[0m\u001b[0;34m)\u001b[0m\u001b[0;34m\u001b[0m\u001b[0;34m\u001b[0m\u001b[0m\n\u001b[0m\u001b[1;32m    971\u001b[0m             \u001b[0;32mreturn\u001b[0m \u001b[0;32mNone\u001b[0m\u001b[0;34m\u001b[0m\u001b[0;34m\u001b[0m\u001b[0m\n\u001b[1;32m    972\u001b[0m         \u001b[0;32melse\u001b[0m\u001b[0;34m:\u001b[0m\u001b[0;34m\u001b[0m\u001b[0;34m\u001b[0m\u001b[0m\n",
      "\u001b[0;32m/opt/miniconda3/envs/532/lib/python3.9/site-packages/altair/vegalite/v4/api.py\u001b[0m in \u001b[0;36m_repr_mimebundle_\u001b[0;34m(self, include, exclude)\u001b[0m\n\u001b[1;32m   1647\u001b[0m         \u001b[0;31m# see https://github.com/ipython/ipython/issues/11038\u001b[0m\u001b[0;34m\u001b[0m\u001b[0;34m\u001b[0m\u001b[0;34m\u001b[0m\u001b[0m\n\u001b[1;32m   1648\u001b[0m         \u001b[0;32mtry\u001b[0m\u001b[0;34m:\u001b[0m\u001b[0;34m\u001b[0m\u001b[0;34m\u001b[0m\u001b[0m\n\u001b[0;32m-> 1649\u001b[0;31m             \u001b[0mdct\u001b[0m \u001b[0;34m=\u001b[0m \u001b[0mself\u001b[0m\u001b[0;34m.\u001b[0m\u001b[0mto_dict\u001b[0m\u001b[0;34m(\u001b[0m\u001b[0;34m)\u001b[0m\u001b[0;34m\u001b[0m\u001b[0;34m\u001b[0m\u001b[0m\n\u001b[0m\u001b[1;32m   1650\u001b[0m         \u001b[0;32mexcept\u001b[0m \u001b[0mException\u001b[0m\u001b[0;34m:\u001b[0m\u001b[0;34m\u001b[0m\u001b[0;34m\u001b[0m\u001b[0m\n\u001b[1;32m   1651\u001b[0m             \u001b[0mutils\u001b[0m\u001b[0;34m.\u001b[0m\u001b[0mdisplay_traceback\u001b[0m\u001b[0;34m(\u001b[0m\u001b[0min_ipython\u001b[0m\u001b[0;34m=\u001b[0m\u001b[0;32mTrue\u001b[0m\u001b[0;34m)\u001b[0m\u001b[0;34m\u001b[0m\u001b[0;34m\u001b[0m\u001b[0m\n",
      "\u001b[0;32m/opt/miniconda3/envs/532/lib/python3.9/site-packages/altair/vegalite/v4/api.py\u001b[0m in \u001b[0;36mto_dict\u001b[0;34m(self, *args, **kwargs)\u001b[0m\n\u001b[1;32m    361\u001b[0m         \u001b[0mcopy\u001b[0m \u001b[0;34m=\u001b[0m \u001b[0mself\u001b[0m\u001b[0;34m.\u001b[0m\u001b[0mcopy\u001b[0m\u001b[0;34m(\u001b[0m\u001b[0mdeep\u001b[0m\u001b[0;34m=\u001b[0m\u001b[0;32mFalse\u001b[0m\u001b[0;34m)\u001b[0m\u001b[0;34m\u001b[0m\u001b[0;34m\u001b[0m\u001b[0m\n\u001b[1;32m    362\u001b[0m         \u001b[0moriginal_data\u001b[0m \u001b[0;34m=\u001b[0m \u001b[0mgetattr\u001b[0m\u001b[0;34m(\u001b[0m\u001b[0mcopy\u001b[0m\u001b[0;34m,\u001b[0m \u001b[0;34m\"data\"\u001b[0m\u001b[0;34m,\u001b[0m \u001b[0mUndefined\u001b[0m\u001b[0;34m)\u001b[0m\u001b[0;34m\u001b[0m\u001b[0;34m\u001b[0m\u001b[0m\n\u001b[0;32m--> 363\u001b[0;31m         \u001b[0mcopy\u001b[0m\u001b[0;34m.\u001b[0m\u001b[0mdata\u001b[0m \u001b[0;34m=\u001b[0m \u001b[0m_prepare_data\u001b[0m\u001b[0;34m(\u001b[0m\u001b[0moriginal_data\u001b[0m\u001b[0;34m,\u001b[0m \u001b[0mcontext\u001b[0m\u001b[0;34m)\u001b[0m\u001b[0;34m\u001b[0m\u001b[0;34m\u001b[0m\u001b[0m\n\u001b[0m\u001b[1;32m    364\u001b[0m \u001b[0;34m\u001b[0m\u001b[0m\n\u001b[1;32m    365\u001b[0m         \u001b[0;32mif\u001b[0m \u001b[0moriginal_data\u001b[0m \u001b[0;32mis\u001b[0m \u001b[0;32mnot\u001b[0m \u001b[0mUndefined\u001b[0m\u001b[0;34m:\u001b[0m\u001b[0;34m\u001b[0m\u001b[0;34m\u001b[0m\u001b[0m\n",
      "\u001b[0;32m/opt/miniconda3/envs/532/lib/python3.9/site-packages/altair/vegalite/v4/api.py\u001b[0m in \u001b[0;36m_prepare_data\u001b[0;34m(data, context)\u001b[0m\n\u001b[1;32m     90\u001b[0m     \u001b[0;31m# consolidate inline data to top-level datasets\u001b[0m\u001b[0;34m\u001b[0m\u001b[0;34m\u001b[0m\u001b[0;34m\u001b[0m\u001b[0m\n\u001b[1;32m     91\u001b[0m     \u001b[0;32mif\u001b[0m \u001b[0mcontext\u001b[0m \u001b[0;32mis\u001b[0m \u001b[0;32mnot\u001b[0m \u001b[0;32mNone\u001b[0m \u001b[0;32mand\u001b[0m \u001b[0mdata_transformers\u001b[0m\u001b[0;34m.\u001b[0m\u001b[0mconsolidate_datasets\u001b[0m\u001b[0;34m:\u001b[0m\u001b[0;34m\u001b[0m\u001b[0;34m\u001b[0m\u001b[0m\n\u001b[0;32m---> 92\u001b[0;31m         \u001b[0mdata\u001b[0m \u001b[0;34m=\u001b[0m \u001b[0m_consolidate_data\u001b[0m\u001b[0;34m(\u001b[0m\u001b[0mdata\u001b[0m\u001b[0;34m,\u001b[0m \u001b[0mcontext\u001b[0m\u001b[0;34m)\u001b[0m\u001b[0;34m\u001b[0m\u001b[0;34m\u001b[0m\u001b[0m\n\u001b[0m\u001b[1;32m     93\u001b[0m \u001b[0;34m\u001b[0m\u001b[0m\n\u001b[1;32m     94\u001b[0m     \u001b[0;31m# if data is still not a recognized type, then return\u001b[0m\u001b[0;34m\u001b[0m\u001b[0;34m\u001b[0m\u001b[0;34m\u001b[0m\u001b[0m\n",
      "\u001b[0;32m/opt/miniconda3/envs/532/lib/python3.9/site-packages/altair/vegalite/v4/api.py\u001b[0m in \u001b[0;36m_consolidate_data\u001b[0;34m(data, context)\u001b[0m\n\u001b[1;32m     57\u001b[0m \u001b[0;34m\u001b[0m\u001b[0m\n\u001b[1;32m     58\u001b[0m     \u001b[0;32mif\u001b[0m \u001b[0mvalues\u001b[0m \u001b[0;32mis\u001b[0m \u001b[0;32mnot\u001b[0m \u001b[0mUndefined\u001b[0m\u001b[0;34m:\u001b[0m\u001b[0;34m\u001b[0m\u001b[0;34m\u001b[0m\u001b[0m\n\u001b[0;32m---> 59\u001b[0;31m         \u001b[0mname\u001b[0m \u001b[0;34m=\u001b[0m \u001b[0m_dataset_name\u001b[0m\u001b[0;34m(\u001b[0m\u001b[0mvalues\u001b[0m\u001b[0;34m)\u001b[0m\u001b[0;34m\u001b[0m\u001b[0;34m\u001b[0m\u001b[0m\n\u001b[0m\u001b[1;32m     60\u001b[0m         \u001b[0mdata\u001b[0m \u001b[0;34m=\u001b[0m \u001b[0mcore\u001b[0m\u001b[0;34m.\u001b[0m\u001b[0mNamedData\u001b[0m\u001b[0;34m(\u001b[0m\u001b[0mname\u001b[0m\u001b[0;34m=\u001b[0m\u001b[0mname\u001b[0m\u001b[0;34m,\u001b[0m \u001b[0;34m**\u001b[0m\u001b[0mkwds\u001b[0m\u001b[0;34m)\u001b[0m\u001b[0;34m\u001b[0m\u001b[0;34m\u001b[0m\u001b[0m\n\u001b[1;32m     61\u001b[0m         \u001b[0mcontext\u001b[0m\u001b[0;34m.\u001b[0m\u001b[0msetdefault\u001b[0m\u001b[0;34m(\u001b[0m\u001b[0;34m\"datasets\"\u001b[0m\u001b[0;34m,\u001b[0m \u001b[0;34m{\u001b[0m\u001b[0;34m}\u001b[0m\u001b[0;34m)\u001b[0m\u001b[0;34m[\u001b[0m\u001b[0mname\u001b[0m\u001b[0;34m]\u001b[0m \u001b[0;34m=\u001b[0m \u001b[0mvalues\u001b[0m\u001b[0;34m\u001b[0m\u001b[0;34m\u001b[0m\u001b[0m\n",
      "\u001b[0;32m/opt/miniconda3/envs/532/lib/python3.9/site-packages/altair/vegalite/v4/api.py\u001b[0m in \u001b[0;36m_dataset_name\u001b[0;34m(values)\u001b[0m\n\u001b[1;32m     33\u001b[0m     \u001b[0;32mif\u001b[0m \u001b[0misinstance\u001b[0m\u001b[0;34m(\u001b[0m\u001b[0mvalues\u001b[0m\u001b[0;34m,\u001b[0m \u001b[0mcore\u001b[0m\u001b[0;34m.\u001b[0m\u001b[0mInlineDataset\u001b[0m\u001b[0;34m)\u001b[0m\u001b[0;34m:\u001b[0m\u001b[0;34m\u001b[0m\u001b[0;34m\u001b[0m\u001b[0m\n\u001b[1;32m     34\u001b[0m         \u001b[0mvalues\u001b[0m \u001b[0;34m=\u001b[0m \u001b[0mvalues\u001b[0m\u001b[0;34m.\u001b[0m\u001b[0mto_dict\u001b[0m\u001b[0;34m(\u001b[0m\u001b[0;34m)\u001b[0m\u001b[0;34m\u001b[0m\u001b[0;34m\u001b[0m\u001b[0m\n\u001b[0;32m---> 35\u001b[0;31m     \u001b[0mvalues_json\u001b[0m \u001b[0;34m=\u001b[0m \u001b[0mjson\u001b[0m\u001b[0;34m.\u001b[0m\u001b[0mdumps\u001b[0m\u001b[0;34m(\u001b[0m\u001b[0mvalues\u001b[0m\u001b[0;34m,\u001b[0m \u001b[0msort_keys\u001b[0m\u001b[0;34m=\u001b[0m\u001b[0;32mTrue\u001b[0m\u001b[0;34m)\u001b[0m\u001b[0;34m\u001b[0m\u001b[0;34m\u001b[0m\u001b[0m\n\u001b[0m\u001b[1;32m     36\u001b[0m     \u001b[0mhsh\u001b[0m \u001b[0;34m=\u001b[0m \u001b[0mhashlib\u001b[0m\u001b[0;34m.\u001b[0m\u001b[0mmd5\u001b[0m\u001b[0;34m(\u001b[0m\u001b[0mvalues_json\u001b[0m\u001b[0;34m.\u001b[0m\u001b[0mencode\u001b[0m\u001b[0;34m(\u001b[0m\u001b[0;34m)\u001b[0m\u001b[0;34m)\u001b[0m\u001b[0;34m.\u001b[0m\u001b[0mhexdigest\u001b[0m\u001b[0;34m(\u001b[0m\u001b[0;34m)\u001b[0m\u001b[0;34m\u001b[0m\u001b[0;34m\u001b[0m\u001b[0m\n\u001b[1;32m     37\u001b[0m     \u001b[0;32mreturn\u001b[0m \u001b[0;34m\"data-\"\u001b[0m \u001b[0;34m+\u001b[0m \u001b[0mhsh\u001b[0m\u001b[0;34m\u001b[0m\u001b[0;34m\u001b[0m\u001b[0m\n",
      "\u001b[0;32m/opt/miniconda3/envs/532/lib/python3.9/json/__init__.py\u001b[0m in \u001b[0;36mdumps\u001b[0;34m(obj, skipkeys, ensure_ascii, check_circular, allow_nan, cls, indent, separators, default, sort_keys, **kw)\u001b[0m\n\u001b[1;32m    232\u001b[0m     \u001b[0;32mif\u001b[0m \u001b[0mcls\u001b[0m \u001b[0;32mis\u001b[0m \u001b[0;32mNone\u001b[0m\u001b[0;34m:\u001b[0m\u001b[0;34m\u001b[0m\u001b[0;34m\u001b[0m\u001b[0m\n\u001b[1;32m    233\u001b[0m         \u001b[0mcls\u001b[0m \u001b[0;34m=\u001b[0m \u001b[0mJSONEncoder\u001b[0m\u001b[0;34m\u001b[0m\u001b[0;34m\u001b[0m\u001b[0m\n\u001b[0;32m--> 234\u001b[0;31m     return cls(\n\u001b[0m\u001b[1;32m    235\u001b[0m         \u001b[0mskipkeys\u001b[0m\u001b[0;34m=\u001b[0m\u001b[0mskipkeys\u001b[0m\u001b[0;34m,\u001b[0m \u001b[0mensure_ascii\u001b[0m\u001b[0;34m=\u001b[0m\u001b[0mensure_ascii\u001b[0m\u001b[0;34m,\u001b[0m\u001b[0;34m\u001b[0m\u001b[0;34m\u001b[0m\u001b[0m\n\u001b[1;32m    236\u001b[0m         \u001b[0mcheck_circular\u001b[0m\u001b[0;34m=\u001b[0m\u001b[0mcheck_circular\u001b[0m\u001b[0;34m,\u001b[0m \u001b[0mallow_nan\u001b[0m\u001b[0;34m=\u001b[0m\u001b[0mallow_nan\u001b[0m\u001b[0;34m,\u001b[0m \u001b[0mindent\u001b[0m\u001b[0;34m=\u001b[0m\u001b[0mindent\u001b[0m\u001b[0;34m,\u001b[0m\u001b[0;34m\u001b[0m\u001b[0;34m\u001b[0m\u001b[0m\n",
      "\u001b[0;32m/opt/miniconda3/envs/532/lib/python3.9/json/encoder.py\u001b[0m in \u001b[0;36mencode\u001b[0;34m(self, o)\u001b[0m\n\u001b[1;32m    197\u001b[0m         \u001b[0;31m# exceptions aren't as detailed.  The list call should be roughly\u001b[0m\u001b[0;34m\u001b[0m\u001b[0;34m\u001b[0m\u001b[0;34m\u001b[0m\u001b[0m\n\u001b[1;32m    198\u001b[0m         \u001b[0;31m# equivalent to the PySequence_Fast that ''.join() would do.\u001b[0m\u001b[0;34m\u001b[0m\u001b[0;34m\u001b[0m\u001b[0;34m\u001b[0m\u001b[0m\n\u001b[0;32m--> 199\u001b[0;31m         \u001b[0mchunks\u001b[0m \u001b[0;34m=\u001b[0m \u001b[0mself\u001b[0m\u001b[0;34m.\u001b[0m\u001b[0miterencode\u001b[0m\u001b[0;34m(\u001b[0m\u001b[0mo\u001b[0m\u001b[0;34m,\u001b[0m \u001b[0m_one_shot\u001b[0m\u001b[0;34m=\u001b[0m\u001b[0;32mTrue\u001b[0m\u001b[0;34m)\u001b[0m\u001b[0;34m\u001b[0m\u001b[0;34m\u001b[0m\u001b[0m\n\u001b[0m\u001b[1;32m    200\u001b[0m         \u001b[0;32mif\u001b[0m \u001b[0;32mnot\u001b[0m \u001b[0misinstance\u001b[0m\u001b[0;34m(\u001b[0m\u001b[0mchunks\u001b[0m\u001b[0;34m,\u001b[0m \u001b[0;34m(\u001b[0m\u001b[0mlist\u001b[0m\u001b[0;34m,\u001b[0m \u001b[0mtuple\u001b[0m\u001b[0;34m)\u001b[0m\u001b[0;34m)\u001b[0m\u001b[0;34m:\u001b[0m\u001b[0;34m\u001b[0m\u001b[0;34m\u001b[0m\u001b[0m\n\u001b[1;32m    201\u001b[0m             \u001b[0mchunks\u001b[0m \u001b[0;34m=\u001b[0m \u001b[0mlist\u001b[0m\u001b[0;34m(\u001b[0m\u001b[0mchunks\u001b[0m\u001b[0;34m)\u001b[0m\u001b[0;34m\u001b[0m\u001b[0;34m\u001b[0m\u001b[0m\n",
      "\u001b[0;32m/opt/miniconda3/envs/532/lib/python3.9/json/encoder.py\u001b[0m in \u001b[0;36miterencode\u001b[0;34m(self, o, _one_shot)\u001b[0m\n\u001b[1;32m    255\u001b[0m                 \u001b[0mself\u001b[0m\u001b[0;34m.\u001b[0m\u001b[0mkey_separator\u001b[0m\u001b[0;34m,\u001b[0m \u001b[0mself\u001b[0m\u001b[0;34m.\u001b[0m\u001b[0mitem_separator\u001b[0m\u001b[0;34m,\u001b[0m \u001b[0mself\u001b[0m\u001b[0;34m.\u001b[0m\u001b[0msort_keys\u001b[0m\u001b[0;34m,\u001b[0m\u001b[0;34m\u001b[0m\u001b[0;34m\u001b[0m\u001b[0m\n\u001b[1;32m    256\u001b[0m                 self.skipkeys, _one_shot)\n\u001b[0;32m--> 257\u001b[0;31m         \u001b[0;32mreturn\u001b[0m \u001b[0m_iterencode\u001b[0m\u001b[0;34m(\u001b[0m\u001b[0mo\u001b[0m\u001b[0;34m,\u001b[0m \u001b[0;36m0\u001b[0m\u001b[0;34m)\u001b[0m\u001b[0;34m\u001b[0m\u001b[0;34m\u001b[0m\u001b[0m\n\u001b[0m\u001b[1;32m    258\u001b[0m \u001b[0;34m\u001b[0m\u001b[0m\n\u001b[1;32m    259\u001b[0m def _make_iterencode(markers, _default, _encoder, _indent, _floatstr,\n",
      "\u001b[0;31mKeyboardInterrupt\u001b[0m: "
     ]
    }
   ],
   "source": [
    "import altair as alt\n",
    "#alt.data_transformers.disable_max_rows()\n",
    "\n",
    "alt.Chart(df[\"\"]).mark_line().encode(\n",
    "    y='NumberofEmployees',\n",
    "    x='FOLDERYEAR'\n",
    ")"
   ]
  },
  {
   "cell_type": "code",
   "execution_count": null,
   "metadata": {},
   "outputs": [],
   "source": []
  }
 ],
 "metadata": {
  "kernelspec": {
   "display_name": "Python [conda env:532]",
   "language": "python",
   "name": "conda-env-532-py"
  },
  "language_info": {
   "codemirror_mode": {
    "name": "ipython",
    "version": 3
   },
   "file_extension": ".py",
   "mimetype": "text/x-python",
   "name": "python",
   "nbconvert_exporter": "python",
   "pygments_lexer": "ipython3",
   "version": "3.9.1"
  }
 },
 "nbformat": 4,
 "nbformat_minor": 4
}
