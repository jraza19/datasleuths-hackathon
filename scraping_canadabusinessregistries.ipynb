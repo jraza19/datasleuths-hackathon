{
 "cells": [
  {
   "cell_type": "code",
   "execution_count": 1,
   "metadata": {},
   "outputs": [
    {
     "name": "stderr",
     "output_type": "stream",
     "text": [
      "/opt/miniconda3/lib/python3.8/site-packages/IPython/core/interactiveshell.py:3145: DtypeWarning: Columns (13) have mixed types.Specify dtype option on import or set low_memory=False.\n",
      "  has_raised = await self.run_ast_nodes(code_ast.body, cell_name,\n"
     ]
    }
   ],
   "source": [
    "import csv\n",
    "import pandas as pd\n",
    "\n",
    "import requests\n",
    "from bs4 import BeautifulSoup, SoupStrainer\n",
    "import re\n",
    "import pandas as pd\n",
    "import json\n",
    "bussiness_licences = \"business-licences-hackathon.csv\"\n",
    "file = open(bussiness_licences, \"r\")\n",
    "reader = pd.read_csv(file, sep=';')"
   ]
  },
  {
   "cell_type": "code",
   "execution_count": 12,
   "metadata": {},
   "outputs": [],
   "source": [
    "# 35050 Business name is peoples names in brackets which are likely\n",
    "# not to have results in canadabusinessregistries\n",
    "df_no_nan = reader.dropna(subset=['BusinessName'])\n",
    "businesses_names = df_no_nan[~df_no_nan.BusinessName.str.contains('(', regex=False)].BusinessName.unique()\n",
    "\n",
    "# 35050 Business name is peoples names in brackets which are likely\n",
    "# not to have results in canadabusinessregistries \n",
    "# so I am getting their business trade name instead. \n",
    "business_trade_names = df_no_nan[df_no_nan['BusinessName'].str.contains('(', regex=False)][\"BusinessTradeName\"].unique()"
   ]
  },
  {
   "cell_type": "code",
   "execution_count": 14,
   "metadata": {},
   "outputs": [
    {
     "data": {
      "text/plain": [
       "58507"
      ]
     },
     "execution_count": 14,
     "metadata": {},
     "output_type": "execute_result"
    }
   ],
   "source": [
    "len(businesses_names)"
   ]
  },
  {
   "cell_type": "code",
   "execution_count": 15,
   "metadata": {},
   "outputs": [
    {
     "data": {
      "text/plain": [
       "21606"
      ]
     },
     "execution_count": 15,
     "metadata": {},
     "output_type": "execute_result"
    }
   ],
   "source": [
    "len(business_trade_names)"
   ]
  },
  {
   "cell_type": "code",
   "execution_count": 17,
   "metadata": {},
   "outputs": [],
   "source": [
    "from collections import defaultdict\n",
    "\n",
    "def get_business_info(businesses, current_business_list):\n",
    "    for business in businesses:\n",
    "        temp_dict = {}\n",
    "\n",
    "        temp_dict['Company_Name'] = business['Company_Name']\n",
    "\n",
    "        if 'BN' in business:\n",
    "            temp_dict['BN'] = business['BN']\n",
    "        else:\n",
    "            temp_dict['BN'] = \"None\"\n",
    "\n",
    "        temp_dict['Juri_ID'] = business['Juri_ID']\n",
    "        temp_dict['Status_State'] = business['Status_State']\n",
    "\n",
    "        if 'Status_Notes' in business:\n",
    "            temp_dict['Status_Notes'] = business['Status_Notes']\n",
    "        else: \n",
    "            temp_dict['Status_Notes'] = \"None\"\n",
    "\n",
    "        if 'Reg_office_province' in business:\n",
    "            temp_dict['Reg_office_province'] = business['Reg_office_province']\n",
    "        else:\n",
    "            temp_dict['Reg_office_province'] = \"None\"\n",
    "\n",
    "        if 'Reg_office_city' in business:\n",
    "            temp_dict['Reg_office_city'] = business['Reg_office_city']\n",
    "        else:\n",
    "            temp_dict['Reg_office_city'] = \"None\"\n",
    "\n",
    "        if 'Display_Date' in business:\n",
    "            temp_dict['Display_Date'] = business['Display_Date']\n",
    "        else:\n",
    "            temp_dict['Display_Date'] = \"None\"\n",
    "    \n",
    "    current_business_list[business['MRAS_ID']] = temp_dict"
   ]
  },
  {
   "cell_type": "code",
   "execution_count": 18,
   "metadata": {},
   "outputs": [
    {
     "data": {
      "text/plain": [
       "defaultdict(dict,\n",
       "            {'BC_BC0477546': {'Company_Name': 'AMAZON ENTERPRISES INC.',\n",
       "              'BN': '899612295',\n",
       "              'Juri_ID': 'BC0477546',\n",
       "              'Status_State': 'Inactive',\n",
       "              'Status_Notes': 'Dissolved for Failure to File',\n",
       "              'Reg_office_province': 'BC',\n",
       "              'Reg_office_city': 'VICTORIA',\n",
       "              'Display_Date': '1994-07-27'}})"
      ]
     },
     "execution_count": 18,
     "metadata": {},
     "output_type": "execute_result"
    }
   ],
   "source": [
    "current_business_list = defaultdict(dict)\n",
    "company_name = \"Amazon\"\n",
    "API = \"https://searchapi.mrasservice.ca/Search/api/v1/search?fq=keyword:%7B\"+ company_name +\"&location=BC&lang=en&queryaction=fieldquery&sortfield=score&sortorder=desc\"\n",
    "response = requests.get(API)\n",
    "content_json = response.json()\n",
    "get_business_info(content_json['docs'], current_business_list)\n",
    "    \n",
    "current_business_list"
   ]
  },
  {
   "cell_type": "code",
   "execution_count": null,
   "metadata": {},
   "outputs": [],
   "source": [
    "current_business_list = defaultdict(dict)\n",
    "\n",
    "# Deal with multiword business names\n",
    "for business in businesses_names:\n",
    "    business_name_list = business.split()\n",
    "    if len(business_name_list) > 1:\n",
    "        company_name = \"%20\".join(business_name_list)\n",
    "        company_name += \"%7D\"\n",
    "    else: \n",
    "        company_name = business\n",
    "    API = \"https://searchapi.mrasservice.ca/Search/api/v1/search?fq=keyword:%7B\"+ company_name +\"&location=BC&lang=en&queryaction=fieldquery&sortfield=score&sortorder=desc\"\n",
    "    response = requests.get(API)\n",
    "    content_json = response.json()\n",
    "    get_business_info(content_json['docs'], current_business_list)\n",
    "    \n",
    "    \n",
    "    "
   ]
  }
 ],
 "metadata": {
  "kernelspec": {
   "display_name": "Python 3",
   "language": "python",
   "name": "python3"
  },
  "language_info": {
   "codemirror_mode": {
    "name": "ipython",
    "version": 3
   },
   "file_extension": ".py",
   "mimetype": "text/x-python",
   "name": "python",
   "nbconvert_exporter": "python",
   "pygments_lexer": "ipython3",
   "version": "3.8.3"
  }
 },
 "nbformat": 4,
 "nbformat_minor": 4
}
