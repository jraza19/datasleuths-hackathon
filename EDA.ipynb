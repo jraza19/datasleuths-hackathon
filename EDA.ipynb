{
 "cells": [
  {
   "cell_type": "code",
   "execution_count": 1,
   "metadata": {},
   "outputs": [
    {
     "name": "stderr",
     "output_type": "stream",
     "text": [
      "/opt/miniconda3/envs/573/lib/python3.8/site-packages/IPython/core/interactiveshell.py:3146: DtypeWarning: Columns (13) have mixed types.Specify dtype option on import or set low_memory=False.\n",
      "  has_raised = await self.run_ast_nodes(code_ast.body, cell_name,\n"
     ]
    },
    {
     "data": {
      "text/html": [
       "<div>\n",
       "<style scoped>\n",
       "    .dataframe tbody tr th:only-of-type {\n",
       "        vertical-align: middle;\n",
       "    }\n",
       "\n",
       "    .dataframe tbody tr th {\n",
       "        vertical-align: top;\n",
       "    }\n",
       "\n",
       "    .dataframe thead th {\n",
       "        text-align: right;\n",
       "    }\n",
       "</style>\n",
       "<table border=\"1\" class=\"dataframe\">\n",
       "  <thead>\n",
       "    <tr style=\"text-align: right;\">\n",
       "      <th></th>\n",
       "      <th>FOLDERYEAR</th>\n",
       "      <th>LicenceRSN</th>\n",
       "      <th>LicenceNumber</th>\n",
       "      <th>LicenceRevisionNumber</th>\n",
       "      <th>BusinessName</th>\n",
       "      <th>BusinessTradeName</th>\n",
       "      <th>Status</th>\n",
       "      <th>IssuedDate</th>\n",
       "      <th>ExpiredDate</th>\n",
       "      <th>BusinessType</th>\n",
       "      <th>...</th>\n",
       "      <th>Street</th>\n",
       "      <th>City</th>\n",
       "      <th>Province</th>\n",
       "      <th>Country</th>\n",
       "      <th>PostalCode</th>\n",
       "      <th>LocalArea</th>\n",
       "      <th>NumberofEmployees</th>\n",
       "      <th>FeePaid</th>\n",
       "      <th>ExtractDate</th>\n",
       "      <th>Geom</th>\n",
       "    </tr>\n",
       "  </thead>\n",
       "  <tbody>\n",
       "    <tr>\n",
       "      <th>0</th>\n",
       "      <td>14</td>\n",
       "      <td>2180123</td>\n",
       "      <td>14-160030</td>\n",
       "      <td>0</td>\n",
       "      <td>Golden Trim Enterprises Inc</td>\n",
       "      <td>Floorhaus</td>\n",
       "      <td>Issued</td>\n",
       "      <td>2013-12-05T19:08:53-05:00</td>\n",
       "      <td>2014-12-31</td>\n",
       "      <td>Wholesale Dealer w/ Anc. Retail</td>\n",
       "      <td>...</td>\n",
       "      <td>W 3RD AV</td>\n",
       "      <td>Vancouver</td>\n",
       "      <td>BC</td>\n",
       "      <td>CA</td>\n",
       "      <td>V5Y 1G1</td>\n",
       "      <td>Mount Pleasant</td>\n",
       "      <td>4.0</td>\n",
       "      <td>262.0</td>\n",
       "      <td>2019-07-21T16:49:13-04:00</td>\n",
       "      <td>{\"type\": \"Point\", \"coordinates\": [-123.1098925...</td>\n",
       "    </tr>\n",
       "    <tr>\n",
       "      <th>1</th>\n",
       "      <td>14</td>\n",
       "      <td>2180373</td>\n",
       "      <td>14-160220</td>\n",
       "      <td>0</td>\n",
       "      <td>Tamton Networking Inc</td>\n",
       "      <td>Tam Ton Training</td>\n",
       "      <td>Issued</td>\n",
       "      <td>2014-02-26T16:08:59-05:00</td>\n",
       "      <td>2014-12-31</td>\n",
       "      <td>Instruction</td>\n",
       "      <td>...</td>\n",
       "      <td>W PENDER ST</td>\n",
       "      <td>Vancouver</td>\n",
       "      <td>BC</td>\n",
       "      <td>CA</td>\n",
       "      <td>V6B 6N9</td>\n",
       "      <td>Downtown</td>\n",
       "      <td>0.0</td>\n",
       "      <td>130.0</td>\n",
       "      <td>2019-07-21T16:49:13-04:00</td>\n",
       "      <td>{\"type\": \"Point\", \"coordinates\": [-123.1067518...</td>\n",
       "    </tr>\n",
       "    <tr>\n",
       "      <th>2</th>\n",
       "      <td>14</td>\n",
       "      <td>2180374</td>\n",
       "      <td>14-160221</td>\n",
       "      <td>0</td>\n",
       "      <td>Jack W Chow Insurance Services Ltd</td>\n",
       "      <td>NaN</td>\n",
       "      <td>Issued</td>\n",
       "      <td>2013-12-06T11:57:32-05:00</td>\n",
       "      <td>2014-12-31</td>\n",
       "      <td>Office</td>\n",
       "      <td>...</td>\n",
       "      <td>E PENDER ST</td>\n",
       "      <td>Vancouver</td>\n",
       "      <td>BC</td>\n",
       "      <td>CA</td>\n",
       "      <td>V6A 1S9</td>\n",
       "      <td>Downtown</td>\n",
       "      <td>10.0</td>\n",
       "      <td>130.0</td>\n",
       "      <td>2019-07-21T16:49:13-04:00</td>\n",
       "      <td>{\"type\": \"Point\", \"coordinates\": [-123.1040791...</td>\n",
       "    </tr>\n",
       "    <tr>\n",
       "      <th>3</th>\n",
       "      <td>14</td>\n",
       "      <td>2180382</td>\n",
       "      <td>14-160226</td>\n",
       "      <td>0</td>\n",
       "      <td>Time Education Inc</td>\n",
       "      <td>NaN</td>\n",
       "      <td>Cancelled</td>\n",
       "      <td>NaN</td>\n",
       "      <td>NaN</td>\n",
       "      <td>Educational</td>\n",
       "      <td>...</td>\n",
       "      <td>GRANVILLE ST</td>\n",
       "      <td>Vancouver</td>\n",
       "      <td>BC</td>\n",
       "      <td>CA</td>\n",
       "      <td>V6M 4J7</td>\n",
       "      <td>Kerrisdale</td>\n",
       "      <td>2.0</td>\n",
       "      <td>51.0</td>\n",
       "      <td>2019-07-21T16:49:13-04:00</td>\n",
       "      <td>{\"type\": \"Point\", \"coordinates\": [-123.1401383...</td>\n",
       "    </tr>\n",
       "    <tr>\n",
       "      <th>4</th>\n",
       "      <td>13</td>\n",
       "      <td>2180556</td>\n",
       "      <td>13-449866</td>\n",
       "      <td>0</td>\n",
       "      <td>(Maiko Sato)</td>\n",
       "      <td>Nankurunaisa Education Services</td>\n",
       "      <td>Issued</td>\n",
       "      <td>2013-12-17T16:18:45-05:00</td>\n",
       "      <td>2013-12-31</td>\n",
       "      <td>Referral Services</td>\n",
       "      <td>...</td>\n",
       "      <td>NaN</td>\n",
       "      <td>Vancouver</td>\n",
       "      <td>BC</td>\n",
       "      <td>CA</td>\n",
       "      <td>NaN</td>\n",
       "      <td>Riley Park</td>\n",
       "      <td>1.0</td>\n",
       "      <td>62.0</td>\n",
       "      <td>2019-07-21T16:49:13-04:00</td>\n",
       "      <td>NaN</td>\n",
       "    </tr>\n",
       "  </tbody>\n",
       "</table>\n",
       "<p>5 rows × 24 columns</p>\n",
       "</div>"
      ],
      "text/plain": [
       "   FOLDERYEAR  LicenceRSN LicenceNumber  LicenceRevisionNumber  \\\n",
       "0          14     2180123     14-160030                      0   \n",
       "1          14     2180373     14-160220                      0   \n",
       "2          14     2180374     14-160221                      0   \n",
       "3          14     2180382     14-160226                      0   \n",
       "4          13     2180556     13-449866                      0   \n",
       "\n",
       "                         BusinessName                BusinessTradeName  \\\n",
       "0         Golden Trim Enterprises Inc                        Floorhaus   \n",
       "1               Tamton Networking Inc                 Tam Ton Training   \n",
       "2  Jack W Chow Insurance Services Ltd                              NaN   \n",
       "3                  Time Education Inc                              NaN   \n",
       "4                        (Maiko Sato)  Nankurunaisa Education Services   \n",
       "\n",
       "      Status                 IssuedDate ExpiredDate  \\\n",
       "0     Issued  2013-12-05T19:08:53-05:00  2014-12-31   \n",
       "1     Issued  2014-02-26T16:08:59-05:00  2014-12-31   \n",
       "2     Issued  2013-12-06T11:57:32-05:00  2014-12-31   \n",
       "3  Cancelled                        NaN         NaN   \n",
       "4     Issued  2013-12-17T16:18:45-05:00  2013-12-31   \n",
       "\n",
       "                      BusinessType  ...        Street       City Province  \\\n",
       "0  Wholesale Dealer w/ Anc. Retail  ...      W 3RD AV  Vancouver       BC   \n",
       "1                      Instruction  ...   W PENDER ST  Vancouver       BC   \n",
       "2                           Office  ...   E PENDER ST  Vancouver       BC   \n",
       "3                      Educational  ...  GRANVILLE ST  Vancouver       BC   \n",
       "4                Referral Services  ...           NaN  Vancouver       BC   \n",
       "\n",
       "  Country PostalCode       LocalArea NumberofEmployees FeePaid  \\\n",
       "0      CA    V5Y 1G1  Mount Pleasant               4.0   262.0   \n",
       "1      CA    V6B 6N9        Downtown               0.0   130.0   \n",
       "2      CA    V6A 1S9        Downtown              10.0   130.0   \n",
       "3      CA    V6M 4J7      Kerrisdale               2.0    51.0   \n",
       "4      CA        NaN      Riley Park               1.0    62.0   \n",
       "\n",
       "                 ExtractDate  \\\n",
       "0  2019-07-21T16:49:13-04:00   \n",
       "1  2019-07-21T16:49:13-04:00   \n",
       "2  2019-07-21T16:49:13-04:00   \n",
       "3  2019-07-21T16:49:13-04:00   \n",
       "4  2019-07-21T16:49:13-04:00   \n",
       "\n",
       "                                                Geom  \n",
       "0  {\"type\": \"Point\", \"coordinates\": [-123.1098925...  \n",
       "1  {\"type\": \"Point\", \"coordinates\": [-123.1067518...  \n",
       "2  {\"type\": \"Point\", \"coordinates\": [-123.1040791...  \n",
       "3  {\"type\": \"Point\", \"coordinates\": [-123.1401383...  \n",
       "4                                                NaN  \n",
       "\n",
       "[5 rows x 24 columns]"
      ]
     },
     "execution_count": 1,
     "metadata": {},
     "output_type": "execute_result"
    }
   ],
   "source": [
    "import pandas as pd\n",
    "\n",
    "df = pd.read_csv(\"business-licences-hackathon.csv\", sep=\";\")\n",
    "df.head()"
   ]
  },
  {
   "cell_type": "code",
   "execution_count": 2,
   "metadata": {},
   "outputs": [
    {
     "name": "stdout",
     "output_type": "stream",
     "text": [
      "Index(['FOLDERYEAR', 'LicenceRSN', 'LicenceNumber', 'LicenceRevisionNumber',\n",
      "       'BusinessName', 'BusinessTradeName', 'Status', 'IssuedDate',\n",
      "       'ExpiredDate', 'BusinessType', 'BusinessSubType', 'Unit', 'UnitType',\n",
      "       'House', 'Street', 'City', 'Province', 'Country', 'PostalCode',\n",
      "       'LocalArea', 'NumberofEmployees', 'FeePaid', 'ExtractDate', 'Geom'],\n",
      "      dtype='object')\n"
     ]
    }
   ],
   "source": [
    "print(df.columns)"
   ]
  },
  {
   "cell_type": "code",
   "execution_count": 25,
   "metadata": {},
   "outputs": [
    {
     "name": "stdout",
     "output_type": "stream",
     "text": [
      "<class 'pandas.core.frame.DataFrame'>\n",
      "RangeIndex: 569027 entries, 0 to 569026\n",
      "Data columns (total 24 columns):\n",
      " #   Column                 Non-Null Count   Dtype  \n",
      "---  ------                 --------------   -----  \n",
      " 0   FOLDERYEAR             569027 non-null  int64  \n",
      " 1   LicenceRSN             569027 non-null  int64  \n",
      " 2   LicenceNumber          569027 non-null  object \n",
      " 3   LicenceRevisionNumber  569027 non-null  int64  \n",
      " 4   BusinessName           550020 non-null  object \n",
      " 5   BusinessTradeName      230039 non-null  object \n",
      " 6   Status                 569027 non-null  object \n",
      " 7   IssuedDate             468813 non-null  object \n",
      " 8   ExpiredDate            468490 non-null  object \n",
      " 9   BusinessType           569027 non-null  object \n",
      " 10  BusinessSubType        307658 non-null  object \n",
      " 11  Unit                   147603 non-null  object \n",
      " 12  UnitType               147543 non-null  object \n",
      " 13  House                  313356 non-null  object \n",
      " 14  Street                 313371 non-null  object \n",
      " 15  City                   568212 non-null  object \n",
      " 16  Province               568058 non-null  object \n",
      " 17  Country                551132 non-null  object \n",
      " 18  PostalCode             308835 non-null  object \n",
      " 19  LocalArea              500983 non-null  object \n",
      " 20  NumberofEmployees      569027 non-null  float64\n",
      " 21  FeePaid                475356 non-null  float64\n",
      " 22  ExtractDate            569027 non-null  object \n",
      " 23  Geom                   302893 non-null  object \n",
      "dtypes: float64(2), int64(3), object(19)\n",
      "memory usage: 104.2+ MB\n"
     ]
    }
   ],
   "source": [
    "df.info()"
   ]
  },
  {
   "cell_type": "code",
   "execution_count": 22,
   "metadata": {},
   "outputs": [
    {
     "data": {
      "text/plain": [
       "Status\n",
       "Cancelled                 9486\n",
       "Gone Out of Business     39383\n",
       "Inactive                 12378\n",
       "Issued                  436548\n",
       "Pending                  52225\n",
       "Name: BusinessName, dtype: int64"
      ]
     },
     "execution_count": 22,
     "metadata": {},
     "output_type": "execute_result"
    }
   ],
   "source": [
    "df.groupby(by=\"Status\")[\"BusinessName\"].count()"
   ]
  },
  {
   "cell_type": "code",
   "execution_count": 21,
   "metadata": {},
   "outputs": [
    {
     "data": {
      "text/plain": [
       "BusinessName\n",
       "!Exotics BySIYTHE Corporation             0.000000e+00\n",
       "Imperial Autobody Ltd                     0.000000e+00\n",
       "Imperial Carpets & Rugs Ltd               0.000000e+00\n",
       "Imperial Construction Ltd                 0.000000e+00\n",
       "Imperial Ginseng Products Inc             0.000000e+00\n",
       "                                              ...     \n",
       "Amazon Canada Fulfillment Services Inc    2.640926e+03\n",
       "(Devret Bosch)                            2.865551e+03\n",
       "K & T Foods Ltd                           1.504038e+05\n",
       "(Sergey Lipnitskiy)                       3.745225e+05\n",
       "Shifeon Enterprises Ltd                   1.906663e+09\n",
       "Name: NumberofEmployees, Length: 84111, dtype: float64"
      ]
     },
     "execution_count": 21,
     "metadata": {},
     "output_type": "execute_result"
    }
   ],
   "source": [
    "df.groupby(by=\"BusinessName\")[\"NumberofEmployees\"].std().sort_values().dropna()"
   ]
  },
  {
   "cell_type": "code",
   "execution_count": 6,
   "metadata": {},
   "outputs": [
    {
     "data": {
      "text/plain": [
       "BusinessName\n",
       "Kingsway Moulding & Floors Ltd             1\n",
       "0746652 BC Ltd                             1\n",
       "Chun Chia Wu (Chun Wu)                     1\n",
       "0745070 BC Ltd                             1\n",
       "0744920 BC Ltd                             1\n",
       "                                        ... \n",
       "City of Vancouver                        516\n",
       "Greater Vancouver Floating Home Co-Op    519\n",
       "Advanced Parking Systems Ltd             678\n",
       "Starbucks Coffee Canada Inc              824\n",
       "Imperial Parking Canada Corporation      947\n",
       "Name: FOLDERYEAR, Length: 93557, dtype: int64"
      ]
     },
     "execution_count": 6,
     "metadata": {},
     "output_type": "execute_result"
    }
   ],
   "source": [
    "counts_of_records = df.groupby(by=\"BusinessName\")[\"FOLDERYEAR\"].count().sort_values()\n",
    "counts_of_records"
   ]
  },
  {
   "cell_type": "code",
   "execution_count": 26,
   "metadata": {},
   "outputs": [
    {
     "data": {
      "text/plain": [
       "NumberofEmployees\n",
       "134.0          1\n",
       "183.0          1\n",
       "269.0          1\n",
       "1251.0         1\n",
       "1250.0         1\n",
       "           ...  \n",
       "4.0        22361\n",
       "3.0        30309\n",
       "2.0        53557\n",
       "1.0       103307\n",
       "0.0       240561\n",
       "Name: NumberofEmployees, Length: 362, dtype: int64"
      ]
     },
     "execution_count": 26,
     "metadata": {},
     "output_type": "execute_result"
    }
   ],
   "source": [
    "num_of_employees = df.groupby(by=\"NumberofEmployees\")[\"NumberofEmployees\"].count().sort_values()\n",
    "num_of_employees"
   ]
  },
  {
   "cell_type": "code",
   "execution_count": 4,
   "metadata": {},
   "outputs": [],
   "source": [
    "import matplotlib.pyplot as plt\n"
   ]
  },
  {
   "cell_type": "code",
   "execution_count": 32,
   "metadata": {},
   "outputs": [
    {
     "data": {
      "text/plain": [
       "(0.0, 100.0)"
      ]
     },
     "execution_count": 32,
     "metadata": {},
     "output_type": "execute_result"
    },
    {
     "data": {
      "image/png": "[encoded data removed]",
      "text/plain": [
       "<Figure size 432x288 with 1 Axes>"
      ]
     },
     "metadata": {
      "needs_background": "light"
     },
     "output_type": "display_data"
    }
   ],
   "source": [
    "plt.hist(counts_of_records, bins = 500);\n",
    "plt.xlim([0, 100])"
   ]
  },
  {
   "cell_type": "code",
   "execution_count": 31,
   "metadata": {},
   "outputs": [
    {
     "data": {
      "text/plain": [
       "(0.0, 12.0)"
      ]
     },
     "execution_count": 31,
     "metadata": {},
     "output_type": "execute_result"
    },
    {
     "data": {
      "image/png": "[encoded data removed]",
      "text/plain": [
       "<Figure size 432x288 with 1 Axes>"
      ]
     },
     "metadata": {
      "needs_background": "light"
     },
     "output_type": "display_data"
    }
   ],
   "source": [
    "plt.hist(num_of_employees, bins = 500);\n",
    "plt.ylim([0, 12])"
   ]
  },
  {
   "cell_type": "code",
   "execution_count": null,
   "metadata": {},
   "outputs": [],
   "source": []
  }
 ],
 "metadata": {
  "kernelspec": {
   "display_name": "Python [conda env:573]",
   "language": "python",
   "name": "conda-env-573-py"
  },
  "language_info": {
   "codemirror_mode": {
    "name": "ipython",
    "version": 3
   },
   "file_extension": ".py",
   "mimetype": "text/x-python",
   "name": "python",
   "nbconvert_exporter": "python",
   "pygments_lexer": "ipython3",
   "version": "3.9.1"
  }
 },
 "nbformat": 4,
 "nbformat_minor": 4
}
